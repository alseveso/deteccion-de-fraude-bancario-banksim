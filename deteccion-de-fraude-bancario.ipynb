{
 "cells": [
  {
   "cell_type": "markdown",
   "metadata": {},
   "source": [
    "# Detección de Fraude Bancario - Banksim Dataset"
   ]
  },
  {
   "cell_type": "markdown",
   "metadata": {},
   "source": [
    "## Fraude Bancario"
   ]
  },
  {
   "cell_type": "markdown",
   "metadata": {},
   "source": [
    "De acuerdo a la [Encuesta Global de Fraude Bancario 2019](https://home.kpmg/cr/es/home/tendencias/2019/07/fraude_bancario.html) realizado por KPMG [1], podemos observar, entre los hallazgos principales, los siguientes:\n",
    "* Más de la mitad de los encuestados en todo el mundo experimentaron aumentos tanto en el valor total como en el volumen del fraude externo. El aumento de las tipologías de fraude en todo el mundo desde 2015 hasta 2018 incluye el robo de identidad y la toma de posesión de la cuenta, los ataques cibernéticos, las tarjetas clonadas y las estafas autorizadas de pago automático;\n",
    "* Los bancos a nivel mundial están viendo una tendencia creciente en las estafas. Los estafadores están manipulando y obligando a los clientes a hacer pagos a ellos, sin pasar por los controles bancarios;\n",
    "* La Banca Abierta se considera un desafío importante en el riesgo de fraude de los bancos, ya que los bancos de todo el mundo se están preparando para abrir sus puertas a terceros para acceder a los datos de sus clientes;\n",
    "* Los estafadores son cada vez más sofisticados y pueden cambiar y adaptar rápidamente sus enfoques. Los bancos deben ser ágiles para responder a las nuevas amenazas y adoptar nuevos enfoques y tecnologías para predecir y prevenir el fraude;\n",
    "* En cada región, los bancos encuestados consideraron que el desafío más importante en el riesgo de fraude son los ciberataques."
   ]
  },
  {
   "cell_type": "markdown",
   "metadata": {},
   "source": [
    "## ¿Por qué aplicar modelos ML para detectar Fraude Bancario?"
   ]
  },
  {
   "cell_type": "markdown",
   "metadata": {},
   "source": [
    "Los algoritmos de **Machine Learning** (aprendizaje automático) procesan los datos en bruto (sin procesar), como correos electrónicos o mensajes de texto, y luego aprenden de lo que toman como entrada, volviéndose más inteligentes a lo largo del camino.  \n",
    "Por otro lado, los **métodos basados en Reglas** no pueden detectar ningún patrón nuevo en los datos, ya que sólo siguen un escenario preestablecido, que no incluye patrones de actividad fraudulenta ligeramente modificados."
   ]
  },
  {
   "cell_type": "markdown",
   "metadata": {},
   "source": [
    "## BankSim Dataset"
   ]
  },
  {
   "cell_type": "markdown",
   "metadata": {},
   "source": [
    "* A partir de ahora, se buscará detectar las transacciones fraudulentas del conjunto de datos de **BankSim**.  \n",
    "* BankSim es un **simulador de pagos bancarios** basado en agentes, y en una muestra de datos transaccionales agregados, proporcionados por un banco en España.\n",
    "* El objetivo principal de BankSim es la **generación de datos sintéticos** que se pueden utilizar para la investigación de detección de fraudes.\n",
    "* Consiste en pagos de varios clientes hechos en diferentes períodos de tiempo y con diferentes cantidades.  \n",
    "* Para mayor información sobre el conjunto de datos (originalmente nombrado 'bs140513_032310.csv'), se puede consultar la página de [Kaggle](https://www.kaggle.com/ntnu-testimon/banksim1) [2].  "
   ]
  },
  {
   "cell_type": "markdown",
   "metadata": {},
   "source": [
    "Los pasos a seguir serán los siguientes:\n",
    "\n",
    "1. [Análisis Exploratorio de Datos (EDA)](#1.-Análisis-Exploratorio-de-Datos)\n",
    "2. [Preprocesamiento de Datos](#2.-Preprocesamiento-de-Datos)\n",
    "3. [PCA (Principal Component Analysis)](#3.-PCA-(Principal-Component-Analysis))\n",
    "4. [Sobremuestreo (Oversampling) con SMOTE](#4.-Sobremuestreo-(Oversampling)-con-SMOTE)\n",
    "5. [Modelos de Machine Learning](#5.-Modelos-de-Machine-Learning)\n",
    "6. [Comparación del Desempeño de los Modelos de ML Desarrollados](#6.-Comparación-del-Desempeño-de-los-Modelos-de-ML-Desarrollados)\n",
    "7. [Conclusión](#7.-Conclusión)"
   ]
  },
  {
   "cell_type": "markdown",
   "metadata": {},
   "source": [
    "### 1. Análisis Exploratorio de Datos"
   ]
  },
  {
   "cell_type": "markdown",
   "metadata": {},
   "source": [
    "1. __Se importan las librerías__ necesarias para trabajar en la consigna."
   ]
  },
  {
   "cell_type": "code",
   "execution_count": 1,
   "metadata": {},
   "outputs": [],
   "source": [
    "import numpy as np # Para hacer cálculos numéricos con Python usando arrays\n",
    "import pandas as pd # Para manipulación y análisis de datos con Python (por Ej. tablas numéricas)\n",
    "import matplotlib.pyplot as plt # Herramienta de visualización\n",
    "import seaborn as sns # Herramienta de visualización\n",
    "sns.set() # Interfaz preferida"
   ]
  },
  {
   "cell_type": "markdown",
   "metadata": {},
   "source": [
    "2. __Se realiza la carga el dataset__ usando las funcionalidades de Pandas."
   ]
  },
  {
   "cell_type": "code",
   "execution_count": 2,
   "metadata": {},
   "outputs": [],
   "source": [
    "banksim = pd.read_csv('banksim.csv')"
   ]
  },
  {
   "cell_type": "code",
   "execution_count": 3,
   "metadata": {},
   "outputs": [
    {
     "data": {
      "text/plain": [
       "(594643, 10)"
      ]
     },
     "execution_count": 3,
     "metadata": {},
     "output_type": "execute_result"
    }
   ],
   "source": [
    "banksim.shape"
   ]
  },
  {
   "cell_type": "markdown",
   "metadata": {},
   "source": [
    "* *El Dataset, cuenta con **594.643 Filas**, y **10 Columnas**.*"
   ]
  },
  {
   "cell_type": "code",
   "execution_count": 4,
   "metadata": {},
   "outputs": [
    {
     "data": {
      "text/html": [
       "<div>\n",
       "<style scoped>\n",
       "    .dataframe tbody tr th:only-of-type {\n",
       "        vertical-align: middle;\n",
       "    }\n",
       "\n",
       "    .dataframe tbody tr th {\n",
       "        vertical-align: top;\n",
       "    }\n",
       "\n",
       "    .dataframe thead th {\n",
       "        text-align: right;\n",
       "    }\n",
       "</style>\n",
       "<table border=\"1\" class=\"dataframe\">\n",
       "  <thead>\n",
       "    <tr style=\"text-align: right;\">\n",
       "      <th></th>\n",
       "      <th>step</th>\n",
       "      <th>customer</th>\n",
       "      <th>age</th>\n",
       "      <th>gender</th>\n",
       "      <th>zipcodeOri</th>\n",
       "      <th>merchant</th>\n",
       "      <th>zipMerchant</th>\n",
       "      <th>category</th>\n",
       "      <th>amount</th>\n",
       "      <th>fraud</th>\n",
       "    </tr>\n",
       "  </thead>\n",
       "  <tbody>\n",
       "    <tr>\n",
       "      <th>0</th>\n",
       "      <td>0</td>\n",
       "      <td>'C1093826151'</td>\n",
       "      <td>'4'</td>\n",
       "      <td>'M'</td>\n",
       "      <td>'28007'</td>\n",
       "      <td>'M348934600'</td>\n",
       "      <td>'28007'</td>\n",
       "      <td>'es_transportation'</td>\n",
       "      <td>4.55</td>\n",
       "      <td>0</td>\n",
       "    </tr>\n",
       "    <tr>\n",
       "      <th>1</th>\n",
       "      <td>0</td>\n",
       "      <td>'C352968107'</td>\n",
       "      <td>'2'</td>\n",
       "      <td>'M'</td>\n",
       "      <td>'28007'</td>\n",
       "      <td>'M348934600'</td>\n",
       "      <td>'28007'</td>\n",
       "      <td>'es_transportation'</td>\n",
       "      <td>39.68</td>\n",
       "      <td>0</td>\n",
       "    </tr>\n",
       "    <tr>\n",
       "      <th>2</th>\n",
       "      <td>0</td>\n",
       "      <td>'C2054744914'</td>\n",
       "      <td>'4'</td>\n",
       "      <td>'F'</td>\n",
       "      <td>'28007'</td>\n",
       "      <td>'M1823072687'</td>\n",
       "      <td>'28007'</td>\n",
       "      <td>'es_transportation'</td>\n",
       "      <td>26.89</td>\n",
       "      <td>0</td>\n",
       "    </tr>\n",
       "    <tr>\n",
       "      <th>3</th>\n",
       "      <td>0</td>\n",
       "      <td>'C1760612790'</td>\n",
       "      <td>'3'</td>\n",
       "      <td>'M'</td>\n",
       "      <td>'28007'</td>\n",
       "      <td>'M348934600'</td>\n",
       "      <td>'28007'</td>\n",
       "      <td>'es_transportation'</td>\n",
       "      <td>17.25</td>\n",
       "      <td>0</td>\n",
       "    </tr>\n",
       "    <tr>\n",
       "      <th>4</th>\n",
       "      <td>0</td>\n",
       "      <td>'C757503768'</td>\n",
       "      <td>'5'</td>\n",
       "      <td>'M'</td>\n",
       "      <td>'28007'</td>\n",
       "      <td>'M348934600'</td>\n",
       "      <td>'28007'</td>\n",
       "      <td>'es_transportation'</td>\n",
       "      <td>35.72</td>\n",
       "      <td>0</td>\n",
       "    </tr>\n",
       "  </tbody>\n",
       "</table>\n",
       "</div>"
      ],
      "text/plain": [
       "   step       customer  age gender zipcodeOri       merchant zipMerchant  \\\n",
       "0     0  'C1093826151'  '4'    'M'    '28007'   'M348934600'     '28007'   \n",
       "1     0   'C352968107'  '2'    'M'    '28007'   'M348934600'     '28007'   \n",
       "2     0  'C2054744914'  '4'    'F'    '28007'  'M1823072687'     '28007'   \n",
       "3     0  'C1760612790'  '3'    'M'    '28007'   'M348934600'     '28007'   \n",
       "4     0   'C757503768'  '5'    'M'    '28007'   'M348934600'     '28007'   \n",
       "\n",
       "              category  amount  fraud  \n",
       "0  'es_transportation'    4.55      0  \n",
       "1  'es_transportation'   39.68      0  \n",
       "2  'es_transportation'   26.89      0  \n",
       "3  'es_transportation'   17.25      0  \n",
       "4  'es_transportation'   35.72      0  "
      ]
     },
     "execution_count": 4,
     "metadata": {},
     "output_type": "execute_result"
    }
   ],
   "source": [
    "banksim.head()"
   ]
  },
  {
   "cell_type": "markdown",
   "metadata": {},
   "source": [
    "3. Se realiza una __descripción__ de las características:  "
   ]
  },
  {
   "cell_type": "markdown",
   "metadata": {},
   "source": [
    "* *step:* representa el día desde el comienzo de la simulación. Tiene 180 pasos, por lo que la simulación dura virtualmente 6 meses. \n",
    "* *customer:* la identificación del cliente.  \n",
    "* *age:* edad categorizada, las cuales se detallan a continuación:  \n",
    "    * 0: <= 18,  \n",
    "    * 1: 19-25,  \n",
    "    * 2: 26-35,  \n",
    "    * 3: 36-45,  \n",
    "    * 4: 46-55,  \n",
    "    * 5: 56-65,  \n",
    "    * 6: > 65  \n",
    "    * U: Desconocido  \n",
    "* *gender:* género del cliente.  \n",
    "    * E: Enterprise,  \n",
    "    * F: Mujer,  \n",
    "    * M: Hombre,  \n",
    "    * U: Desconocido  \n",
    "* *zipcodeOri:* el código postal de origen/fuente.  \n",
    "* *merchant:* la identificación del comerciante.  \n",
    "* *zipMerchant:* el código postal del comerciante.  \n",
    "* *category:* categoría de la compra. A posteriori se verán con más detalle.  \n",
    "* *amount:* monto (gasto) que implica la compra.  \n",
    "* *fraud:* variable objetivo que muestra si la transacción es fraudulenta **(1)** o no **(0)**."
   ]
  },
  {
   "cell_type": "markdown",
   "metadata": {},
   "source": [
    "4. __Info por Columna:__ Se imprimen los nombres de cada columna, se observan sus valores faltantes y se identifica a qué tipo de dato corresponden."
   ]
  },
  {
   "cell_type": "code",
   "execution_count": 5,
   "metadata": {},
   "outputs": [
    {
     "name": "stdout",
     "output_type": "stream",
     "text": [
      "<class 'pandas.core.frame.DataFrame'>\n",
      "RangeIndex: 594643 entries, 0 to 594642\n",
      "Data columns (total 10 columns):\n",
      " #   Column       Non-Null Count   Dtype  \n",
      "---  ------       --------------   -----  \n",
      " 0   step         594643 non-null  int64  \n",
      " 1   customer     594643 non-null  object \n",
      " 2   age          594643 non-null  object \n",
      " 3   gender       594643 non-null  object \n",
      " 4   zipcodeOri   594643 non-null  object \n",
      " 5   merchant     594643 non-null  object \n",
      " 6   zipMerchant  594643 non-null  object \n",
      " 7   category     594643 non-null  object \n",
      " 8   amount       594643 non-null  float64\n",
      " 9   fraud        594643 non-null  int64  \n",
      "dtypes: float64(1), int64(2), object(7)\n",
      "memory usage: 45.4+ MB\n"
     ]
    }
   ],
   "source": [
    "banksim.info()"
   ]
  },
  {
   "cell_type": "markdown",
   "metadata": {},
   "source": [
    "* *Ninguna columna tiene valores faltantes, lo cual es lógico por tratarse de un dataset sintético.*\n",
    "* *Por ello, es que no será necesario realizar imputación de valores.*"
   ]
  },
  {
   "cell_type": "markdown",
   "metadata": {},
   "source": [
    "5. Análisis del feature **Fraude**."
   ]
  },
  {
   "cell_type": "code",
   "execution_count": 6,
   "metadata": {},
   "outputs": [
    {
     "data": {
      "text/plain": [
       "array([0, 1], dtype=int64)"
      ]
     },
     "execution_count": 6,
     "metadata": {},
     "output_type": "execute_result"
    }
   ],
   "source": [
    "pd.unique(banksim['fraud'])"
   ]
  },
  {
   "cell_type": "code",
   "execution_count": 7,
   "metadata": {},
   "outputs": [
    {
     "data": {
      "text/plain": [
       "Text(0.5, 1.0, 'Cantidad de Transacciones por Tipo')"
      ]
     },
     "execution_count": 7,
     "metadata": {},
     "output_type": "execute_result"
    },
    {
     "data": {
      "image/png": "[encoded data removed]",
      "text/plain": [
       "<Figure size 432x288 with 1 Axes>"
      ]
     },
     "metadata": {},
     "output_type": "display_data"
    }
   ],
   "source": [
    "ax=sns.countplot(data = banksim, x = 'fraud', order = banksim['fraud'].value_counts().index, palette='pastel')\n",
    "ax.set_xticklabels([\"No Fraudulentas\",\"Faudulentas\"])\n",
    "plt.xlabel('Tipo de Transacción');\n",
    "plt.ylabel('Cantidad de Transacciones');\n",
    "plt.title('Cantidad de Transacciones por Tipo')"
   ]
  },
  {
   "cell_type": "markdown",
   "metadata": {},
   "source": [
    "* *Como se observa en el gráfico anterior, los datos de las transacciones en fraudulentas y no, según el recuento de instancias, se encuentran **desequilibrados**, siendo las transacciones no fraudulentas casi imperceptibles a la vista*.\n",
    "* *Para equilibrar el conjunto de datos se pueden realizar **técnicas de sobremuestreo o submuestreo**.*  \n",
    "* *El **sobremuestreo** es aumentar el número de la clase minoritaria, generando nuevas instancias de dicha clase.*  \n",
    "* *El **submuestreo** consiste en reducir el número de instancias de la clase mayoritaria, mediante la selección de puntos aleatorios de la misma hasta que sea igual a la clase minoritaria.*  \n",
    "* *Ambas operaciones tienen algunos **riesgos**: El sobremuestreo creará copias o puntos de datos similares que a veces no serían útiles para el caso de la detección de fraudes porque las transacciones fraudulentas pueden variar. El submuestreo significa que perdimos puntos de datos y, por lo tanto, información.*"
   ]
  },
  {
   "cell_type": "code",
   "execution_count": 8,
   "metadata": {},
   "outputs": [
    {
     "name": "stdout",
     "output_type": "stream",
     "text": [
      "594643\n"
     ]
    }
   ],
   "source": [
    "print(banksim['fraud'].value_counts().sum())"
   ]
  },
  {
   "cell_type": "code",
   "execution_count": 9,
   "metadata": {},
   "outputs": [
    {
     "name": "stdout",
     "output_type": "stream",
     "text": [
      "0    587443\n",
      "1      7200\n",
      "Name: fraud, dtype: int64\n"
     ]
    }
   ],
   "source": [
    "print(banksim['fraud'].value_counts())"
   ]
  },
  {
   "cell_type": "markdown",
   "metadata": {},
   "source": [
    "* *Vemos que las instancias no fraudulentas representan un 98,8% del total, pudiendo corroborarse el desbalanceo del dataset.*"
   ]
  },
  {
   "cell_type": "markdown",
   "metadata": {},
   "source": [
    "6. Análisis de **Categorías**."
   ]
  },
  {
   "cell_type": "code",
   "execution_count": 10,
   "metadata": {},
   "outputs": [
    {
     "name": "stdout",
     "output_type": "stream",
     "text": [
      "'es_transportation'        505119\n",
      "'es_food'                   26254\n",
      "'es_health'                 16133\n",
      "'es_wellnessandbeauty'      15086\n",
      "'es_fashion'                 6454\n",
      "'es_barsandrestaurants'      6373\n",
      "'es_hyper'                   6098\n",
      "'es_sportsandtoys'           4002\n",
      "'es_tech'                    2370\n",
      "'es_home'                    1986\n",
      "'es_hotelservices'           1744\n",
      "'es_otherservices'            912\n",
      "'es_contents'                 885\n",
      "'es_travel'                   728\n",
      "'es_leisure'                  499\n",
      "Name: category, dtype: int64\n"
     ]
    }
   ],
   "source": [
    "print(banksim['category'].value_counts())"
   ]
  },
  {
   "cell_type": "markdown",
   "metadata": {},
   "source": [
    "* *Se cuenta con 15 tipos de categoría diferentes, siendo la más recurrente `es_transportation`, abarca el 85% de las transacciones.*"
   ]
  },
  {
   "cell_type": "markdown",
   "metadata": {},
   "source": [
    "7. Análisis de **Fraude por Monto o Gasto**."
   ]
  },
  {
   "cell_type": "markdown",
   "metadata": {},
   "source": [
    "* *Confirmemos lo expuesto en el punto anterior, comprobando la cantidad de fraude y de no fraude que se ha tramitado.*"
   ]
  },
  {
   "cell_type": "code",
   "execution_count": 11,
   "metadata": {},
   "outputs": [
    {
     "data": {
      "image/png": "[encoded data removed]",
      "text/plain": [
       "<Figure size 432x432 with 2 Axes>"
      ]
     },
     "metadata": {},
     "output_type": "display_data"
    }
   ],
   "source": [
    "corr = banksim[['fraud','amount']].corr()\n",
    "plt.figure(figsize=(6,6))\n",
    "sns.heatmap(corr, cbar = True,  square = True, annot=True, fmt= '.2f',annot_kws={'size': 15}, cmap='Pastel2')\n",
    "plt.xticks(rotation = 45)\n",
    "plt.yticks(rotation = 45)\n",
    "plt.title('Correlación entre Variables - Pearson')\n",
    "plt.show()"
   ]
  },
  {
   "cell_type": "markdown",
   "metadata": {},
   "source": [
    "* *Existe una correlación positiva entre fraude y monto o gasto insumido en la trasacción, aunque no muy elevada.*"
   ]
  },
  {
   "cell_type": "markdown",
   "metadata": {},
   "source": [
    "* *A continuación, se exponen el gasto promedio y el porcentaje de fraude por categoría.*"
   ]
  },
  {
   "cell_type": "code",
   "execution_count": 12,
   "metadata": {},
   "outputs": [
    {
     "name": "stdout",
     "output_type": "stream",
     "text": [
      "Gasto Promedio y Porcentaje de Fraude por Categoría                               amount     fraud\n",
      "category                                      \n",
      "'es_barsandrestaurants'    43.461014  0.018829\n",
      "'es_contents'              44.547571  0.000000\n",
      "'es_fashion'               65.666642  0.017973\n",
      "'es_food'                  37.070405  0.000000\n",
      "'es_health'               135.621367  0.105126\n",
      "'es_home'                 165.670846  0.152064\n",
      "'es_hotelservices'        205.614249  0.314220\n",
      "'es_hyper'                 45.970421  0.045917\n",
      "'es_leisure'              288.911303  0.949900\n",
      "'es_otherservices'        135.881524  0.250000\n",
      "'es_sportsandtoys'        215.715280  0.495252\n",
      "'es_tech'                 120.947937  0.066667\n",
      "'es_transportation'        26.958187  0.000000\n",
      "'es_travel'              2250.409190  0.793956\n",
      "'es_wellnessandbeauty'     65.511221  0.047594\n"
     ]
    },
    {
     "name": "stderr",
     "output_type": "stream",
     "text": [
      "<ipython-input-12-ee65b36acd6c>:1: FutureWarning: Indexing with multiple keys (implicitly converted to a tuple of keys) will be deprecated, use a list instead.\n",
      "  print(\"Gasto Promedio y Porcentaje de Fraude por Categoría\",banksim.groupby('category')['amount','fraud'].mean())\n"
     ]
    }
   ],
   "source": [
    "print(\"Gasto Promedio y Porcentaje de Fraude por Categoría\",banksim.groupby('category')['amount','fraud'].mean())"
   ]
  },
  {
   "cell_type": "markdown",
   "metadata": {},
   "source": [
    "* *Parece que el ocio (`es_leisure`) y los viajes (`es_travel`) son las categorías más seleccionadas por los defraudadores.*\n",
    "* *Los defraudadores eligieron las categorías en las que la gente **gasta más en promedio**.*"
   ]
  },
  {
   "cell_type": "markdown",
   "metadata": {},
   "source": [
    "* *Para confirmar lo antes expuesto, se crean dos Dataframes diferenciando las transacciones fraudulentas de las que no lo son.*"
   ]
  },
  {
   "cell_type": "code",
   "execution_count": 13,
   "metadata": {},
   "outputs": [],
   "source": [
    "fraudulentas = banksim.loc[banksim.fraud == 1] \n",
    "no_fraudulentas = banksim.loc[banksim.fraud == 0]"
   ]
  },
  {
   "cell_type": "code",
   "execution_count": 14,
   "metadata": {},
   "outputs": [
    {
     "data": {
      "text/html": [
       "<div>\n",
       "<style scoped>\n",
       "    .dataframe tbody tr th:only-of-type {\n",
       "        vertical-align: middle;\n",
       "    }\n",
       "\n",
       "    .dataframe tbody tr th {\n",
       "        vertical-align: top;\n",
       "    }\n",
       "\n",
       "    .dataframe thead th {\n",
       "        text-align: right;\n",
       "    }\n",
       "</style>\n",
       "<table border=\"1\" class=\"dataframe\">\n",
       "  <thead>\n",
       "    <tr style=\"text-align: right;\">\n",
       "      <th></th>\n",
       "      <th>Fraudulentas</th>\n",
       "      <th>No Fraudulentas</th>\n",
       "      <th>Porcentaje(%)</th>\n",
       "    </tr>\n",
       "    <tr>\n",
       "      <th>category</th>\n",
       "      <th></th>\n",
       "      <th></th>\n",
       "      <th></th>\n",
       "    </tr>\n",
       "  </thead>\n",
       "  <tbody>\n",
       "    <tr>\n",
       "      <th>'es_leisure'</th>\n",
       "      <td>300.286878</td>\n",
       "      <td>73.230400</td>\n",
       "      <td>94.989980</td>\n",
       "    </tr>\n",
       "    <tr>\n",
       "      <th>'es_travel'</th>\n",
       "      <td>2660.802872</td>\n",
       "      <td>669.025533</td>\n",
       "      <td>79.395604</td>\n",
       "    </tr>\n",
       "    <tr>\n",
       "      <th>'es_sportsandtoys'</th>\n",
       "      <td>345.366811</td>\n",
       "      <td>88.502738</td>\n",
       "      <td>49.525237</td>\n",
       "    </tr>\n",
       "    <tr>\n",
       "      <th>'es_hotelservices'</th>\n",
       "      <td>421.823339</td>\n",
       "      <td>106.548545</td>\n",
       "      <td>31.422018</td>\n",
       "    </tr>\n",
       "    <tr>\n",
       "      <th>'es_otherservices'</th>\n",
       "      <td>316.469605</td>\n",
       "      <td>75.685497</td>\n",
       "      <td>25.000000</td>\n",
       "    </tr>\n",
       "    <tr>\n",
       "      <th>'es_home'</th>\n",
       "      <td>457.484834</td>\n",
       "      <td>113.338409</td>\n",
       "      <td>15.206445</td>\n",
       "    </tr>\n",
       "    <tr>\n",
       "      <th>'es_health'</th>\n",
       "      <td>407.031338</td>\n",
       "      <td>103.737228</td>\n",
       "      <td>10.512614</td>\n",
       "    </tr>\n",
       "    <tr>\n",
       "      <th>'es_tech'</th>\n",
       "      <td>415.274114</td>\n",
       "      <td>99.924638</td>\n",
       "      <td>6.666667</td>\n",
       "    </tr>\n",
       "    <tr>\n",
       "      <th>'es_wellnessandbeauty'</th>\n",
       "      <td>229.422535</td>\n",
       "      <td>57.320219</td>\n",
       "      <td>4.759380</td>\n",
       "    </tr>\n",
       "    <tr>\n",
       "      <th>'es_hyper'</th>\n",
       "      <td>169.255429</td>\n",
       "      <td>40.037145</td>\n",
       "      <td>4.591669</td>\n",
       "    </tr>\n",
       "    <tr>\n",
       "      <th>'es_barsandrestaurants'</th>\n",
       "      <td>164.092667</td>\n",
       "      <td>41.145997</td>\n",
       "      <td>1.882944</td>\n",
       "    </tr>\n",
       "    <tr>\n",
       "      <th>'es_fashion'</th>\n",
       "      <td>247.008190</td>\n",
       "      <td>62.347674</td>\n",
       "      <td>1.797335</td>\n",
       "    </tr>\n",
       "    <tr>\n",
       "      <th>'es_contents'</th>\n",
       "      <td>NaN</td>\n",
       "      <td>44.547571</td>\n",
       "      <td>0.000000</td>\n",
       "    </tr>\n",
       "    <tr>\n",
       "      <th>'es_food'</th>\n",
       "      <td>NaN</td>\n",
       "      <td>37.070405</td>\n",
       "      <td>0.000000</td>\n",
       "    </tr>\n",
       "    <tr>\n",
       "      <th>'es_transportation'</th>\n",
       "      <td>NaN</td>\n",
       "      <td>26.958187</td>\n",
       "      <td>0.000000</td>\n",
       "    </tr>\n",
       "  </tbody>\n",
       "</table>\n",
       "</div>"
      ],
      "text/plain": [
       "                         Fraudulentas  No Fraudulentas  Porcentaje(%)\n",
       "category                                                             \n",
       "'es_leisure'               300.286878        73.230400      94.989980\n",
       "'es_travel'               2660.802872       669.025533      79.395604\n",
       "'es_sportsandtoys'         345.366811        88.502738      49.525237\n",
       "'es_hotelservices'         421.823339       106.548545      31.422018\n",
       "'es_otherservices'         316.469605        75.685497      25.000000\n",
       "'es_home'                  457.484834       113.338409      15.206445\n",
       "'es_health'                407.031338       103.737228      10.512614\n",
       "'es_tech'                  415.274114        99.924638       6.666667\n",
       "'es_wellnessandbeauty'     229.422535        57.320219       4.759380\n",
       "'es_hyper'                 169.255429        40.037145       4.591669\n",
       "'es_barsandrestaurants'    164.092667        41.145997       1.882944\n",
       "'es_fashion'               247.008190        62.347674       1.797335\n",
       "'es_contents'                     NaN        44.547571       0.000000\n",
       "'es_food'                         NaN        37.070405       0.000000\n",
       "'es_transportation'               NaN        26.958187       0.000000"
      ]
     },
     "execution_count": 14,
     "metadata": {},
     "output_type": "execute_result"
    }
   ],
   "source": [
    "pd.concat([fraudulentas.groupby('category')['amount'].mean(),no_fraudulentas.groupby('category')['amount'].mean(),\\\n",
    "           banksim.groupby('category')['fraud'].mean()*100],keys=[\"Fraudulentas\",\"No Fraudulentas\",\"Porcentaje(%)\"],axis=1,\\\n",
    "          sort=False).sort_values(by=['Porcentaje(%)'],ascending=False)"
   ]
  },
  {
   "cell_type": "markdown",
   "metadata": {},
   "source": [
    "* *De acuerdo a lo observado anteriormente, podemos decir que para un determinado tipo de categoría, una transacción fraudulenta tendrá un gasto (`amount`) mucho mayor -unos cuatro veces o más-, que el gasto **promedio** para dicha categoría.*"
   ]
  },
  {
   "cell_type": "markdown",
   "metadata": {},
   "source": [
    "* *Se trazan los box plots de los gastos realizados -de transacciones fraudulentas y no fraudulentas- por tipo de categoría.* "
   ]
  },
  {
   "cell_type": "code",
   "execution_count": 15,
   "metadata": {},
   "outputs": [
    {
     "name": "stderr",
     "output_type": "stream",
     "text": [
      "No handles with labels found to put in legend.\n"
     ]
    },
    {
     "data": {
      "image/png": "[encoded data removed]",
      "text/plain": [
       "<Figure size 1080x1080 with 1 Axes>"
      ]
     },
     "metadata": {},
     "output_type": "display_data"
    }
   ],
   "source": [
    "plt.figure(figsize=(15,15))\n",
    "sns.boxplot(data = banksim, x = 'amount', y = 'category', palette='pastel')\n",
    "plt.title(\"Gasto Realizado por Tipo de Categoría\", fontsize=12)\n",
    "plt.xlabel(\"Gasto\",fontsize=12)\n",
    "plt.ylabel(\"Categoría\",fontsize=12)\n",
    "plt.legend()\n",
    "plt.show()"
   ]
  },
  {
   "cell_type": "markdown",
   "metadata": {},
   "source": [
    "* *Las categorías tienen un gasto promedio similar, **entre 0 y 500** o **600** quizás (descartando los valores atípicos muy dispersos).*\n",
    "* *La excepción observable, es la categoría de **viajes**, cuyo gasto se encuentra **muy por encima** de las demás categorías.*"
   ]
  },
  {
   "cell_type": "code",
   "execution_count": 16,
   "metadata": {},
   "outputs": [
    {
     "data": {
      "image/png": "[encoded data removed]",
      "text/plain": [
       "<Figure size 432x288 with 1 Axes>"
      ]
     },
     "metadata": {},
     "output_type": "display_data"
    }
   ],
   "source": [
    "plt.hist(data = fraudulentas, x = 'amount', alpha=0.5, label='Fraudulentas',bins=100)\n",
    "plt.hist(data = no_fraudulentas, x = 'amount', alpha=0.5, label='No Fraudulentas',bins=100)\n",
    "plt.title(\"Histograma de Transacciones Fraudulentas y No Fraudulentas\")\n",
    "plt.xlabel('Monto de la Transacción');\n",
    "plt.ylabel('Cantidad de Transacciones');\n",
    "plt.ylim(0,10000)\n",
    "plt.xlim(0,1000)\n",
    "plt.legend()\n",
    "plt.show()"
   ]
  },
  {
   "cell_type": "markdown",
   "metadata": {},
   "source": [
    "* *Una vez más podemos ver en el histograma, que las **transacciones fradulentas** son **menos en cantidad pero más en monto**.*\n",
    "* *Con montos mayores a 400, ya poderíamos sospechar que hay fraude.*"
   ]
  },
  {
   "cell_type": "markdown",
   "metadata": {},
   "source": [
    "8. Análisis de **Fraude por Edad**."
   ]
  },
  {
   "cell_type": "code",
   "execution_count": 17,
   "metadata": {},
   "outputs": [
    {
     "name": "stdout",
     "output_type": "stream",
     "text": [
      "'2'    187310\n",
      "'3'    147131\n",
      "'4'    109025\n",
      "'5'     62642\n",
      "'1'     58131\n",
      "'6'     26774\n",
      "'0'      2452\n",
      "'U'      1178\n",
      "Name: age, dtype: int64\n"
     ]
    }
   ],
   "source": [
    "print(banksim['age'].value_counts())"
   ]
  },
  {
   "cell_type": "markdown",
   "metadata": {},
   "source": [
    "* *Como vimos anteriormente, las transacciones se encuentran categorizadas por franjas etarias, y la categoría 'U' representa las edades desconocidas.*\n",
    "* *La franjas que realizaron más transacciones, son las 2, 3 y 4 (en ese órden), es decir, aquellos que tienen entre 26 a 55 años, lo cual es lógico, ya que se trata de personas en edad laboral y que además se han adaptado al uso de herramientas tecnológicas.*"
   ]
  },
  {
   "cell_type": "code",
   "execution_count": 18,
   "metadata": {},
   "outputs": [
    {
     "name": "stdout",
     "output_type": "stream",
     "text": [
      "   Age  Fraud Percent\n",
      "7  'U'       0.594228\n",
      "6  '6'       0.974826\n",
      "5  '5'       1.095112\n",
      "1  '1'       1.185254\n",
      "3  '3'       1.192815\n",
      "2  '2'       1.251401\n",
      "4  '4'       1.293281\n",
      "0  '0'       1.957586\n"
     ]
    }
   ],
   "source": [
    "print((banksim.groupby('age')['fraud'].mean()*100).reset_index().rename(columns={'age':'Age','fraud' : 'Fraud Percent'}).sort_values(by='Fraud Percent'))"
   ]
  },
  {
   "cell_type": "markdown",
   "metadata": {},
   "source": [
    "* *El fraude **ocurre más en edades iguales y menores de 18 años (0º categoría)**.*\n",
    "* *Puede ser que los estafadores realmente sean jóvenes menores de 18 años, aunque lo más probable es que aquellos que comenten fraude, piensen que habría menos consecuencias si muestran su edad más joven.*"
   ]
  },
  {
   "cell_type": "markdown",
   "metadata": {},
   "source": [
    "9. Análisis del feature **Pasos**."
   ]
  },
  {
   "cell_type": "code",
   "execution_count": 19,
   "metadata": {},
   "outputs": [
    {
     "name": "stdout",
     "output_type": "stream",
     "text": [
      "175    3774\n",
      "177    3758\n",
      "152    3746\n",
      "178    3743\n",
      "174    3743\n",
      "       ... \n",
      "5      2525\n",
      "3      2499\n",
      "2      2462\n",
      "0      2430\n",
      "1      2424\n",
      "Name: step, Length: 180, dtype: int64\n"
     ]
    }
   ],
   "source": [
    "print(banksim['step'].value_counts())"
   ]
  },
  {
   "cell_type": "markdown",
   "metadata": {},
   "source": [
    "* *Como se indicó anteriormente, `step` representa el día desde el comienzo de la simulación, abarcando 180 días (o 180 pasos).*\n",
    "* *Por lo visto, la distribución de los datos por cada día parece bastante equilibrado, representando el día con más transacciones (día 175) un 0,6% del total, y el de menos operaciones (día 1) un 0,4%, y mostrando una evolución del número de transacciones del 0,03% mensual.*"
   ]
  },
  {
   "cell_type": "markdown",
   "metadata": {},
   "source": [
    "10. Análisis del feature **Cliente**."
   ]
  },
  {
   "cell_type": "code",
   "execution_count": 20,
   "metadata": {},
   "outputs": [
    {
     "name": "stdout",
     "output_type": "stream",
     "text": [
      "'C1978250683'    265\n",
      "'C1275518867'    252\n",
      "'C806399525'     237\n",
      "'C515668508'     205\n",
      "'C1338396147'    195\n",
      "                ... \n",
      "'C1156745710'      6\n",
      "'C1345586046'      6\n",
      "'C1743702978'      5\n",
      "'C1809646275'      5\n",
      "'C1404665203'      5\n",
      "Name: customer, Length: 4112, dtype: int64\n"
     ]
    }
   ],
   "source": [
    "print(banksim['customer'].value_counts())"
   ]
  },
  {
   "cell_type": "markdown",
   "metadata": {},
   "source": [
    "* *Tenemos un total de 4.112 clientes.*\n",
    "* *El cliente que mayor cantidad de transacciones realizó, es 'C1978250683', con 265 operaciones (lo cual representa un 0,04% de total de transacciones).*\n",
    "* *`customer` no parece ser una variable determinante a la hora de establecer si una transacción es fraudulenta o no.*"
   ]
  },
  {
   "cell_type": "markdown",
   "metadata": {},
   "source": [
    "11. Análisis de la variable **Género**."
   ]
  },
  {
   "cell_type": "code",
   "execution_count": 21,
   "metadata": {},
   "outputs": [
    {
     "name": "stdout",
     "output_type": "stream",
     "text": [
      "'F'    324565\n",
      "'M'    268385\n",
      "'E'      1178\n",
      "'U'       515\n",
      "Name: gender, dtype: int64\n"
     ]
    }
   ],
   "source": [
    "print(banksim['gender'].value_counts())"
   ]
  },
  {
   "cell_type": "markdown",
   "metadata": {},
   "source": [
    "* *Los géneros Femenino y Masculino son los que más transacciones realizaron, es decir, que son personas físicas las que más operaciones efectuaron, mientras que son pocas las Empresas y mucho menos los géneros desconocidos.*"
   ]
  },
  {
   "cell_type": "markdown",
   "metadata": {},
   "source": [
    "12. Análisis de los **Zip Codes**."
   ]
  },
  {
   "cell_type": "code",
   "execution_count": 22,
   "metadata": {},
   "outputs": [
    {
     "name": "stdout",
     "output_type": "stream",
     "text": [
      "'28007'    594643\n",
      "Name: zipcodeOri, dtype: int64\n"
     ]
    }
   ],
   "source": [
    "print(banksim['zipcodeOri'].value_counts())"
   ]
  },
  {
   "cell_type": "code",
   "execution_count": 23,
   "metadata": {},
   "outputs": [
    {
     "name": "stdout",
     "output_type": "stream",
     "text": [
      "'28007'    594643\n",
      "Name: zipMerchant, dtype: int64\n"
     ]
    }
   ],
   "source": [
    "print(banksim['zipMerchant'].value_counts())"
   ]
  },
  {
   "cell_type": "markdown",
   "metadata": {},
   "source": [
    "* *Como se observa, hay un sólo tipo de Zip Code, tanto de Origen como de Comerciante, por lo que luego, en el preprocesamiento de datos, los descartaremos.*"
   ]
  },
  {
   "cell_type": "markdown",
   "metadata": {},
   "source": [
    "13. Análisis del feature **Comerciante**."
   ]
  },
  {
   "cell_type": "code",
   "execution_count": 24,
   "metadata": {},
   "outputs": [
    {
     "data": {
      "text/plain": [
       "array([\"'M348934600'\", \"'M1823072687'\", \"'M50039827'\", \"'M1888755466'\",\n",
       "       \"'M1053599405'\", \"'M85975013'\", \"'M480139044'\", \"'M692898500'\",\n",
       "       \"'M348875670'\", \"'M151143676'\", \"'M840466850'\", \"'M1741626453'\",\n",
       "       \"'M1535107174'\", \"'M855959430'\", \"'M349281107'\", \"'M209847108'\",\n",
       "       \"'M2122776122'\", \"'M1873032707'\", \"'M2011752106'\", \"'M857378720'\",\n",
       "       \"'M1198415165'\", \"'M1748431652'\", \"'M980657600'\", \"'M1352454843'\",\n",
       "       \"'M117188757'\", \"'M547558035'\", \"'M17379832'\", \"'M1649169323'\",\n",
       "       \"'M1946091778'\", \"'M97925176'\", \"'M923029380'\", \"'M1353266412'\",\n",
       "       \"'M1842530320'\", \"'M677738360'\", \"'M1313686961'\", \"'M732195782'\",\n",
       "       \"'M1600850729'\", \"'M1872033263'\", \"'M3697346'\", \"'M495352832'\",\n",
       "       \"'M1400236507'\", \"'M1294758098'\", \"'M1913465890'\", \"'M45060432'\",\n",
       "       \"'M78078399'\", \"'M2080407379'\", \"'M1788569036'\", \"'M1416436880'\",\n",
       "       \"'M933210764'\", \"'M1726401631'\"], dtype=object)"
      ]
     },
     "execution_count": 24,
     "metadata": {},
     "output_type": "execute_result"
    }
   ],
   "source": [
    "pd.unique(banksim['merchant'])"
   ]
  },
  {
   "cell_type": "code",
   "execution_count": 25,
   "metadata": {},
   "outputs": [
    {
     "name": "stdout",
     "output_type": "stream",
     "text": [
      "'M1823072687'    299693\n",
      "'M348934600'     205426\n",
      "'M85975013'       26254\n",
      "'M1053599405'      6821\n",
      "'M151143676'       6373\n",
      "'M855959430'       6098\n",
      "'M1946091778'      5343\n",
      "'M1913465890'      3988\n",
      "'M209847108'       3814\n",
      "'M480139044'       3508\n",
      "'M349281107'       2881\n",
      "'M1600850729'      2624\n",
      "'M1535107174'      1868\n",
      "'M980657600'       1769\n",
      "'M78078399'        1608\n",
      "'M1198415165'      1580\n",
      "'M840466850'       1399\n",
      "'M1649169323'      1173\n",
      "'M547558035'        949\n",
      "'M50039827'         916\n",
      "'M1888755466'       912\n",
      "'M692898500'        900\n",
      "'M1400236507'       776\n",
      "'M1842530320'       751\n",
      "'M732195782'        608\n",
      "'M97925176'         599\n",
      "'M45060432'         573\n",
      "'M1741626453'       528\n",
      "'M1313686961'       527\n",
      "'M1872033263'       525\n",
      "'M1352454843'       370\n",
      "'M677738360'        358\n",
      "'M2122776122'       341\n",
      "'M923029380'        323\n",
      "'M3697346'          308\n",
      "'M17379832'         282\n",
      "'M1748431652'       274\n",
      "'M1873032707'       250\n",
      "'M2011752106'       244\n",
      "'M1416436880'       220\n",
      "'M1294758098'       191\n",
      "'M1788569036'       181\n",
      "'M857378720'        122\n",
      "'M348875670'        107\n",
      "'M1353266412'        78\n",
      "'M495352832'         69\n",
      "'M933210764'         69\n",
      "'M2080407379'        48\n",
      "'M117188757'         21\n",
      "'M1726401631'         3\n",
      "Name: merchant, dtype: int64\n"
     ]
    }
   ],
   "source": [
    "print(banksim['merchant'].value_counts())"
   ]
  },
  {
   "cell_type": "markdown",
   "metadata": {},
   "source": [
    "* *Tenemos un total de 50 comerciantes.*\n",
    "* *El comerciante que mayor cantidad de transacciones recibió, es 'M1823072687', con 299.693 operaciones (50,4% de total de transacciones) y el segundo es 'M348934600', con 205426 operaciones (34,5%).*\n",
    "* *Entre el primer y segundo comerciante con más operaciones, representan el 84,9% del total de transacciones.*"
   ]
  },
  {
   "cell_type": "code",
   "execution_count": 26,
   "metadata": {},
   "outputs": [
    {
     "data": {
      "text/html": [
       "<div>\n",
       "<style scoped>\n",
       "    .dataframe tbody tr th:only-of-type {\n",
       "        vertical-align: middle;\n",
       "    }\n",
       "\n",
       "    .dataframe tbody tr th {\n",
       "        vertical-align: top;\n",
       "    }\n",
       "\n",
       "    .dataframe thead th {\n",
       "        text-align: right;\n",
       "    }\n",
       "</style>\n",
       "<table border=\"1\" class=\"dataframe\">\n",
       "  <thead>\n",
       "    <tr style=\"text-align: right;\">\n",
       "      <th></th>\n",
       "      <th>Fraudulentas</th>\n",
       "      <th>No Fraudulentas</th>\n",
       "      <th>Porcentaje(%)</th>\n",
       "    </tr>\n",
       "    <tr>\n",
       "      <th>merchant</th>\n",
       "      <th></th>\n",
       "      <th></th>\n",
       "      <th></th>\n",
       "    </tr>\n",
       "  </thead>\n",
       "  <tbody>\n",
       "    <tr>\n",
       "      <th>'M1294758098'</th>\n",
       "      <td>297.871413</td>\n",
       "      <td>74.011429</td>\n",
       "      <td>96.335079</td>\n",
       "    </tr>\n",
       "    <tr>\n",
       "      <th>'M3697346'</th>\n",
       "      <td>301.819448</td>\n",
       "      <td>72.926667</td>\n",
       "      <td>94.155844</td>\n",
       "    </tr>\n",
       "    <tr>\n",
       "      <th>'M1873032707'</th>\n",
       "      <td>419.692963</td>\n",
       "      <td>100.166176</td>\n",
       "      <td>86.400000</td>\n",
       "    </tr>\n",
       "    <tr>\n",
       "      <th>'M732195782'</th>\n",
       "      <td>2608.068166</td>\n",
       "      <td>696.470444</td>\n",
       "      <td>85.197368</td>\n",
       "    </tr>\n",
       "    <tr>\n",
       "      <th>'M980657600'</th>\n",
       "      <td>343.282351</td>\n",
       "      <td>85.266229</td>\n",
       "      <td>83.210854</td>\n",
       "    </tr>\n",
       "    <tr>\n",
       "      <th>'M1353266412'</th>\n",
       "      <td>440.324531</td>\n",
       "      <td>92.132143</td>\n",
       "      <td>82.051282</td>\n",
       "    </tr>\n",
       "    <tr>\n",
       "      <th>'M857378720'</th>\n",
       "      <td>434.384457</td>\n",
       "      <td>116.576667</td>\n",
       "      <td>75.409836</td>\n",
       "    </tr>\n",
       "    <tr>\n",
       "      <th>'M2080407379'</th>\n",
       "      <td>2877.316944</td>\n",
       "      <td>566.098333</td>\n",
       "      <td>75.000000</td>\n",
       "    </tr>\n",
       "    <tr>\n",
       "      <th>'M2011752106'</th>\n",
       "      <td>423.171807</td>\n",
       "      <td>111.632179</td>\n",
       "      <td>68.032787</td>\n",
       "    </tr>\n",
       "    <tr>\n",
       "      <th>'M17379832'</th>\n",
       "      <td>342.107416</td>\n",
       "      <td>93.377596</td>\n",
       "      <td>63.120567</td>\n",
       "    </tr>\n",
       "    <tr>\n",
       "      <th>'M2122776122'</th>\n",
       "      <td>469.448400</td>\n",
       "      <td>114.255603</td>\n",
       "      <td>58.651026</td>\n",
       "    </tr>\n",
       "    <tr>\n",
       "      <th>'M480139044'</th>\n",
       "      <td>406.857032</td>\n",
       "      <td>103.299803</td>\n",
       "      <td>46.579247</td>\n",
       "    </tr>\n",
       "    <tr>\n",
       "      <th>'M1741626453'</th>\n",
       "      <td>324.554694</td>\n",
       "      <td>84.071446</td>\n",
       "      <td>37.121212</td>\n",
       "    </tr>\n",
       "    <tr>\n",
       "      <th>'M495352832'</th>\n",
       "      <td>3474.222500</td>\n",
       "      <td>629.123333</td>\n",
       "      <td>34.782609</td>\n",
       "    </tr>\n",
       "    <tr>\n",
       "      <th>'M923029380'</th>\n",
       "      <td>434.026863</td>\n",
       "      <td>100.377873</td>\n",
       "      <td>31.578947</td>\n",
       "    </tr>\n",
       "    <tr>\n",
       "      <th>'M1888755466'</th>\n",
       "      <td>316.469605</td>\n",
       "      <td>75.685497</td>\n",
       "      <td>25.000000</td>\n",
       "    </tr>\n",
       "    <tr>\n",
       "      <th>'M1198415165'</th>\n",
       "      <td>223.999525</td>\n",
       "      <td>56.720434</td>\n",
       "      <td>22.658228</td>\n",
       "    </tr>\n",
       "    <tr>\n",
       "      <th>'M933210764'</th>\n",
       "      <td>322.464167</td>\n",
       "      <td>84.122281</td>\n",
       "      <td>17.391304</td>\n",
       "    </tr>\n",
       "    <tr>\n",
       "      <th>'M1748431652'</th>\n",
       "      <td>205.928056</td>\n",
       "      <td>56.952605</td>\n",
       "      <td>13.138686</td>\n",
       "    </tr>\n",
       "    <tr>\n",
       "      <th>'M547558035'</th>\n",
       "      <td>247.008190</td>\n",
       "      <td>61.448607</td>\n",
       "      <td>12.223393</td>\n",
       "    </tr>\n",
       "    <tr>\n",
       "      <th>'M840466850'</th>\n",
       "      <td>415.274114</td>\n",
       "      <td>101.663811</td>\n",
       "      <td>11.293781</td>\n",
       "    </tr>\n",
       "    <tr>\n",
       "      <th>'M1649169323'</th>\n",
       "      <td>409.903145</td>\n",
       "      <td>89.508723</td>\n",
       "      <td>10.571185</td>\n",
       "    </tr>\n",
       "    <tr>\n",
       "      <th>'M348875670'</th>\n",
       "      <td>211.485000</td>\n",
       "      <td>111.385361</td>\n",
       "      <td>9.345794</td>\n",
       "    </tr>\n",
       "    <tr>\n",
       "      <th>'M1535107174'</th>\n",
       "      <td>238.822241</td>\n",
       "      <td>57.879982</td>\n",
       "      <td>9.314775</td>\n",
       "    </tr>\n",
       "    <tr>\n",
       "      <th>'M50039827'</th>\n",
       "      <td>409.394130</td>\n",
       "      <td>105.229092</td>\n",
       "      <td>5.021834</td>\n",
       "    </tr>\n",
       "    <tr>\n",
       "      <th>'M855959430'</th>\n",
       "      <td>169.255429</td>\n",
       "      <td>40.037145</td>\n",
       "      <td>4.591669</td>\n",
       "    </tr>\n",
       "    <tr>\n",
       "      <th>'M209847108'</th>\n",
       "      <td>231.364057</td>\n",
       "      <td>57.561235</td>\n",
       "      <td>2.779234</td>\n",
       "    </tr>\n",
       "    <tr>\n",
       "      <th>'M78078399'</th>\n",
       "      <td>250.920000</td>\n",
       "      <td>57.790607</td>\n",
       "      <td>2.736318</td>\n",
       "    </tr>\n",
       "    <tr>\n",
       "      <th>'M151143676'</th>\n",
       "      <td>164.092667</td>\n",
       "      <td>41.145997</td>\n",
       "      <td>1.882944</td>\n",
       "    </tr>\n",
       "    <tr>\n",
       "      <th>'M692898500'</th>\n",
       "      <td>418.039375</td>\n",
       "      <td>105.148835</td>\n",
       "      <td>1.777778</td>\n",
       "    </tr>\n",
       "    <tr>\n",
       "      <th>'M1842530320'</th>\n",
       "      <td>NaN</td>\n",
       "      <td>99.586671</td>\n",
       "      <td>0.000000</td>\n",
       "    </tr>\n",
       "    <tr>\n",
       "      <th>'M85975013'</th>\n",
       "      <td>NaN</td>\n",
       "      <td>37.070405</td>\n",
       "      <td>0.000000</td>\n",
       "    </tr>\n",
       "    <tr>\n",
       "      <th>'M677738360'</th>\n",
       "      <td>NaN</td>\n",
       "      <td>44.479832</td>\n",
       "      <td>0.000000</td>\n",
       "    </tr>\n",
       "    <tr>\n",
       "      <th>'M45060432'</th>\n",
       "      <td>NaN</td>\n",
       "      <td>103.027016</td>\n",
       "      <td>0.000000</td>\n",
       "    </tr>\n",
       "    <tr>\n",
       "      <th>'M349281107'</th>\n",
       "      <td>NaN</td>\n",
       "      <td>61.932704</td>\n",
       "      <td>0.000000</td>\n",
       "    </tr>\n",
       "    <tr>\n",
       "      <th>'M348934600'</th>\n",
       "      <td>NaN</td>\n",
       "      <td>26.965542</td>\n",
       "      <td>0.000000</td>\n",
       "    </tr>\n",
       "    <tr>\n",
       "      <th>'M1946091778'</th>\n",
       "      <td>NaN</td>\n",
       "      <td>57.067848</td>\n",
       "      <td>0.000000</td>\n",
       "    </tr>\n",
       "    <tr>\n",
       "      <th>'M1913465890'</th>\n",
       "      <td>NaN</td>\n",
       "      <td>104.441660</td>\n",
       "      <td>0.000000</td>\n",
       "    </tr>\n",
       "    <tr>\n",
       "      <th>'M1872033263'</th>\n",
       "      <td>NaN</td>\n",
       "      <td>114.769143</td>\n",
       "      <td>0.000000</td>\n",
       "    </tr>\n",
       "    <tr>\n",
       "      <th>'M1788569036'</th>\n",
       "      <td>NaN</td>\n",
       "      <td>94.689779</td>\n",
       "      <td>0.000000</td>\n",
       "    </tr>\n",
       "    <tr>\n",
       "      <th>'M1823072687'</th>\n",
       "      <td>NaN</td>\n",
       "      <td>26.953146</td>\n",
       "      <td>0.000000</td>\n",
       "    </tr>\n",
       "    <tr>\n",
       "      <th>'M1726401631'</th>\n",
       "      <td>NaN</td>\n",
       "      <td>855.920000</td>\n",
       "      <td>0.000000</td>\n",
       "    </tr>\n",
       "    <tr>\n",
       "      <th>'M1600850729'</th>\n",
       "      <td>NaN</td>\n",
       "      <td>63.088700</td>\n",
       "      <td>0.000000</td>\n",
       "    </tr>\n",
       "    <tr>\n",
       "      <th>'M1416436880'</th>\n",
       "      <td>NaN</td>\n",
       "      <td>91.267818</td>\n",
       "      <td>0.000000</td>\n",
       "    </tr>\n",
       "    <tr>\n",
       "      <th>'M1400236507'</th>\n",
       "      <td>NaN</td>\n",
       "      <td>116.117758</td>\n",
       "      <td>0.000000</td>\n",
       "    </tr>\n",
       "    <tr>\n",
       "      <th>'M1352454843'</th>\n",
       "      <td>NaN</td>\n",
       "      <td>109.981324</td>\n",
       "      <td>0.000000</td>\n",
       "    </tr>\n",
       "    <tr>\n",
       "      <th>'M1313686961'</th>\n",
       "      <td>NaN</td>\n",
       "      <td>44.593586</td>\n",
       "      <td>0.000000</td>\n",
       "    </tr>\n",
       "    <tr>\n",
       "      <th>'M117188757'</th>\n",
       "      <td>NaN</td>\n",
       "      <td>105.102381</td>\n",
       "      <td>0.000000</td>\n",
       "    </tr>\n",
       "    <tr>\n",
       "      <th>'M1053599405'</th>\n",
       "      <td>NaN</td>\n",
       "      <td>103.072322</td>\n",
       "      <td>0.000000</td>\n",
       "    </tr>\n",
       "    <tr>\n",
       "      <th>'M97925176'</th>\n",
       "      <td>NaN</td>\n",
       "      <td>56.637796</td>\n",
       "      <td>0.000000</td>\n",
       "    </tr>\n",
       "  </tbody>\n",
       "</table>\n",
       "</div>"
      ],
      "text/plain": [
       "               Fraudulentas  No Fraudulentas  Porcentaje(%)\n",
       "merchant                                                   \n",
       "'M1294758098'    297.871413        74.011429      96.335079\n",
       "'M3697346'       301.819448        72.926667      94.155844\n",
       "'M1873032707'    419.692963       100.166176      86.400000\n",
       "'M732195782'    2608.068166       696.470444      85.197368\n",
       "'M980657600'     343.282351        85.266229      83.210854\n",
       "'M1353266412'    440.324531        92.132143      82.051282\n",
       "'M857378720'     434.384457       116.576667      75.409836\n",
       "'M2080407379'   2877.316944       566.098333      75.000000\n",
       "'M2011752106'    423.171807       111.632179      68.032787\n",
       "'M17379832'      342.107416        93.377596      63.120567\n",
       "'M2122776122'    469.448400       114.255603      58.651026\n",
       "'M480139044'     406.857032       103.299803      46.579247\n",
       "'M1741626453'    324.554694        84.071446      37.121212\n",
       "'M495352832'    3474.222500       629.123333      34.782609\n",
       "'M923029380'     434.026863       100.377873      31.578947\n",
       "'M1888755466'    316.469605        75.685497      25.000000\n",
       "'M1198415165'    223.999525        56.720434      22.658228\n",
       "'M933210764'     322.464167        84.122281      17.391304\n",
       "'M1748431652'    205.928056        56.952605      13.138686\n",
       "'M547558035'     247.008190        61.448607      12.223393\n",
       "'M840466850'     415.274114       101.663811      11.293781\n",
       "'M1649169323'    409.903145        89.508723      10.571185\n",
       "'M348875670'     211.485000       111.385361       9.345794\n",
       "'M1535107174'    238.822241        57.879982       9.314775\n",
       "'M50039827'      409.394130       105.229092       5.021834\n",
       "'M855959430'     169.255429        40.037145       4.591669\n",
       "'M209847108'     231.364057        57.561235       2.779234\n",
       "'M78078399'      250.920000        57.790607       2.736318\n",
       "'M151143676'     164.092667        41.145997       1.882944\n",
       "'M692898500'     418.039375       105.148835       1.777778\n",
       "'M1842530320'           NaN        99.586671       0.000000\n",
       "'M85975013'             NaN        37.070405       0.000000\n",
       "'M677738360'            NaN        44.479832       0.000000\n",
       "'M45060432'             NaN       103.027016       0.000000\n",
       "'M349281107'            NaN        61.932704       0.000000\n",
       "'M348934600'            NaN        26.965542       0.000000\n",
       "'M1946091778'           NaN        57.067848       0.000000\n",
       "'M1913465890'           NaN       104.441660       0.000000\n",
       "'M1872033263'           NaN       114.769143       0.000000\n",
       "'M1788569036'           NaN        94.689779       0.000000\n",
       "'M1823072687'           NaN        26.953146       0.000000\n",
       "'M1726401631'           NaN       855.920000       0.000000\n",
       "'M1600850729'           NaN        63.088700       0.000000\n",
       "'M1416436880'           NaN        91.267818       0.000000\n",
       "'M1400236507'           NaN       116.117758       0.000000\n",
       "'M1352454843'           NaN       109.981324       0.000000\n",
       "'M1313686961'           NaN        44.593586       0.000000\n",
       "'M117188757'            NaN       105.102381       0.000000\n",
       "'M1053599405'           NaN       103.072322       0.000000\n",
       "'M97925176'             NaN        56.637796       0.000000"
      ]
     },
     "execution_count": 26,
     "metadata": {},
     "output_type": "execute_result"
    }
   ],
   "source": [
    "pd.concat([fraudulentas.groupby('merchant')['amount'].mean(),no_fraudulentas.groupby('merchant')['amount'].mean(),\\\n",
    "           banksim.groupby('merchant')['fraud'].mean()*100],keys=[\"Fraudulentas\",\"No Fraudulentas\",\"Porcentaje(%)\"],axis=1,\\\n",
    "          sort=False).sort_values(by=['Porcentaje(%)'],ascending=False)"
   ]
  },
  {
   "cell_type": "markdown",
   "metadata": {},
   "source": [
    "* *Parece ser importante el tipo de comerciante a la hora de establecer si una transacción es o no fraudulenta, de acuerdo al gasto promedio expuesto para cada uno de ellos.*\n",
    "* *Un comerciante que presenta un elevado monto promedio en sus operaciones, podría ser, por ejemplo, una determinada agencia de viajes.*"
   ]
  },
  {
   "cell_type": "markdown",
   "metadata": {},
   "source": [
    "### 2. Preprocesamiento de Datos"
   ]
  },
  {
   "cell_type": "markdown",
   "metadata": {},
   "source": [
    "1. Descartamos las columnas de ambos **Zip Code** y de **Customer**."
   ]
  },
  {
   "cell_type": "markdown",
   "metadata": {},
   "source": [
    "* *Las 3 variables eliminadas, se consideran poco relevantes para nuestro análisis, de acuerdo a lo expuesto en los puntos anteriores.*"
   ]
  },
  {
   "cell_type": "code",
   "execution_count": 27,
   "metadata": {},
   "outputs": [],
   "source": [
    "banksim_filtrado = banksim.drop(['customer','zipcodeOri','zipMerchant'],axis=1)"
   ]
  },
  {
   "cell_type": "code",
   "execution_count": 28,
   "metadata": {},
   "outputs": [
    {
     "data": {
      "text/html": [
       "<div>\n",
       "<style scoped>\n",
       "    .dataframe tbody tr th:only-of-type {\n",
       "        vertical-align: middle;\n",
       "    }\n",
       "\n",
       "    .dataframe tbody tr th {\n",
       "        vertical-align: top;\n",
       "    }\n",
       "\n",
       "    .dataframe thead th {\n",
       "        text-align: right;\n",
       "    }\n",
       "</style>\n",
       "<table border=\"1\" class=\"dataframe\">\n",
       "  <thead>\n",
       "    <tr style=\"text-align: right;\">\n",
       "      <th></th>\n",
       "      <th>step</th>\n",
       "      <th>age</th>\n",
       "      <th>gender</th>\n",
       "      <th>merchant</th>\n",
       "      <th>category</th>\n",
       "      <th>amount</th>\n",
       "      <th>fraud</th>\n",
       "    </tr>\n",
       "  </thead>\n",
       "  <tbody>\n",
       "    <tr>\n",
       "      <th>0</th>\n",
       "      <td>0</td>\n",
       "      <td>'4'</td>\n",
       "      <td>'M'</td>\n",
       "      <td>'M348934600'</td>\n",
       "      <td>'es_transportation'</td>\n",
       "      <td>4.55</td>\n",
       "      <td>0</td>\n",
       "    </tr>\n",
       "    <tr>\n",
       "      <th>1</th>\n",
       "      <td>0</td>\n",
       "      <td>'2'</td>\n",
       "      <td>'M'</td>\n",
       "      <td>'M348934600'</td>\n",
       "      <td>'es_transportation'</td>\n",
       "      <td>39.68</td>\n",
       "      <td>0</td>\n",
       "    </tr>\n",
       "    <tr>\n",
       "      <th>2</th>\n",
       "      <td>0</td>\n",
       "      <td>'4'</td>\n",
       "      <td>'F'</td>\n",
       "      <td>'M1823072687'</td>\n",
       "      <td>'es_transportation'</td>\n",
       "      <td>26.89</td>\n",
       "      <td>0</td>\n",
       "    </tr>\n",
       "    <tr>\n",
       "      <th>3</th>\n",
       "      <td>0</td>\n",
       "      <td>'3'</td>\n",
       "      <td>'M'</td>\n",
       "      <td>'M348934600'</td>\n",
       "      <td>'es_transportation'</td>\n",
       "      <td>17.25</td>\n",
       "      <td>0</td>\n",
       "    </tr>\n",
       "    <tr>\n",
       "      <th>4</th>\n",
       "      <td>0</td>\n",
       "      <td>'5'</td>\n",
       "      <td>'M'</td>\n",
       "      <td>'M348934600'</td>\n",
       "      <td>'es_transportation'</td>\n",
       "      <td>35.72</td>\n",
       "      <td>0</td>\n",
       "    </tr>\n",
       "  </tbody>\n",
       "</table>\n",
       "</div>"
      ],
      "text/plain": [
       "   step  age gender       merchant             category  amount  fraud\n",
       "0     0  '4'    'M'   'M348934600'  'es_transportation'    4.55      0\n",
       "1     0  '2'    'M'   'M348934600'  'es_transportation'   39.68      0\n",
       "2     0  '4'    'F'  'M1823072687'  'es_transportation'   26.89      0\n",
       "3     0  '3'    'M'   'M348934600'  'es_transportation'   17.25      0\n",
       "4     0  '5'    'M'   'M348934600'  'es_transportation'   35.72      0"
      ]
     },
     "execution_count": 28,
     "metadata": {},
     "output_type": "execute_result"
    }
   ],
   "source": [
    "banksim_filtrado.head()"
   ]
  },
  {
   "cell_type": "markdown",
   "metadata": {},
   "source": [
    "* *Vemos que se eliminaron ambas columnas de Zip Codes y Customer.*"
   ]
  },
  {
   "cell_type": "code",
   "execution_count": 29,
   "metadata": {},
   "outputs": [
    {
     "data": {
      "text/plain": [
       "step          int64\n",
       "age          object\n",
       "gender       object\n",
       "merchant     object\n",
       "category     object\n",
       "amount      float64\n",
       "fraud         int64\n",
       "dtype: object"
      ]
     },
     "execution_count": 29,
     "metadata": {},
     "output_type": "execute_result"
    }
   ],
   "source": [
    "banksim_filtrado.dtypes"
   ]
  },
  {
   "cell_type": "markdown",
   "metadata": {},
   "source": [
    "2. __Encoders:__ Se realizará la transformación de los datos."
   ]
  },
  {
   "cell_type": "markdown",
   "metadata": {},
   "source": [
    "* *Los features categóricos serán transformados a valores numéricos.* \n",
    "* *Las categorías a trabajar, son nominales, es decir que no tienen un orden.*\n",
    "* *Lo ideal sería realizar Dummies, pero por el tamaño del Dataset (más de 500.000 instancias) podría demorarse demasiado.*"
   ]
  },
  {
   "cell_type": "code",
   "execution_count": 30,
   "metadata": {},
   "outputs": [],
   "source": [
    "for col_name in banksim_filtrado.columns:\n",
    "    if(banksim_filtrado[col_name].dtype == 'object'):\n",
    "        banksim_filtrado[col_name]= banksim_filtrado[col_name].astype('category')\n",
    "        banksim_filtrado[col_name] = banksim_filtrado[col_name].cat.codes"
   ]
  },
  {
   "cell_type": "code",
   "execution_count": 31,
   "metadata": {},
   "outputs": [
    {
     "data": {
      "text/html": [
       "<div>\n",
       "<style scoped>\n",
       "    .dataframe tbody tr th:only-of-type {\n",
       "        vertical-align: middle;\n",
       "    }\n",
       "\n",
       "    .dataframe tbody tr th {\n",
       "        vertical-align: top;\n",
       "    }\n",
       "\n",
       "    .dataframe thead th {\n",
       "        text-align: right;\n",
       "    }\n",
       "</style>\n",
       "<table border=\"1\" class=\"dataframe\">\n",
       "  <thead>\n",
       "    <tr style=\"text-align: right;\">\n",
       "      <th></th>\n",
       "      <th>step</th>\n",
       "      <th>age</th>\n",
       "      <th>gender</th>\n",
       "      <th>merchant</th>\n",
       "      <th>category</th>\n",
       "      <th>amount</th>\n",
       "      <th>fraud</th>\n",
       "    </tr>\n",
       "  </thead>\n",
       "  <tbody>\n",
       "    <tr>\n",
       "      <th>0</th>\n",
       "      <td>0</td>\n",
       "      <td>4</td>\n",
       "      <td>2</td>\n",
       "      <td>30</td>\n",
       "      <td>12</td>\n",
       "      <td>4.55</td>\n",
       "      <td>0</td>\n",
       "    </tr>\n",
       "    <tr>\n",
       "      <th>1</th>\n",
       "      <td>0</td>\n",
       "      <td>2</td>\n",
       "      <td>2</td>\n",
       "      <td>30</td>\n",
       "      <td>12</td>\n",
       "      <td>39.68</td>\n",
       "      <td>0</td>\n",
       "    </tr>\n",
       "    <tr>\n",
       "      <th>2</th>\n",
       "      <td>0</td>\n",
       "      <td>4</td>\n",
       "      <td>1</td>\n",
       "      <td>18</td>\n",
       "      <td>12</td>\n",
       "      <td>26.89</td>\n",
       "      <td>0</td>\n",
       "    </tr>\n",
       "    <tr>\n",
       "      <th>3</th>\n",
       "      <td>0</td>\n",
       "      <td>3</td>\n",
       "      <td>2</td>\n",
       "      <td>30</td>\n",
       "      <td>12</td>\n",
       "      <td>17.25</td>\n",
       "      <td>0</td>\n",
       "    </tr>\n",
       "    <tr>\n",
       "      <th>4</th>\n",
       "      <td>0</td>\n",
       "      <td>5</td>\n",
       "      <td>2</td>\n",
       "      <td>30</td>\n",
       "      <td>12</td>\n",
       "      <td>35.72</td>\n",
       "      <td>0</td>\n",
       "    </tr>\n",
       "  </tbody>\n",
       "</table>\n",
       "</div>"
      ],
      "text/plain": [
       "   step  age  gender  merchant  category  amount  fraud\n",
       "0     0    4       2        30        12    4.55      0\n",
       "1     0    2       2        30        12   39.68      0\n",
       "2     0    4       1        18        12   26.89      0\n",
       "3     0    3       2        30        12   17.25      0\n",
       "4     0    5       2        30        12   35.72      0"
      ]
     },
     "execution_count": 31,
     "metadata": {},
     "output_type": "execute_result"
    }
   ],
   "source": [
    "banksim_filtrado.head()"
   ]
  },
  {
   "cell_type": "code",
   "execution_count": 32,
   "metadata": {},
   "outputs": [
    {
     "data": {
      "text/plain": [
       "step          int64\n",
       "age            int8\n",
       "gender         int8\n",
       "merchant       int8\n",
       "category       int8\n",
       "amount      float64\n",
       "fraud         int64\n",
       "dtype: object"
      ]
     },
     "execution_count": 32,
     "metadata": {},
     "output_type": "execute_result"
    }
   ],
   "source": [
    "banksim_filtrado.dtypes"
   ]
  },
  {
   "cell_type": "markdown",
   "metadata": {},
   "source": [
    "* *Se obtuvo la conversión de tipo de datos esperada.*"
   ]
  },
  {
   "cell_type": "code",
   "execution_count": 33,
   "metadata": {},
   "outputs": [
    {
     "data": {
      "text/html": [
       "<div>\n",
       "<style scoped>\n",
       "    .dataframe tbody tr th:only-of-type {\n",
       "        vertical-align: middle;\n",
       "    }\n",
       "\n",
       "    .dataframe tbody tr th {\n",
       "        vertical-align: top;\n",
       "    }\n",
       "\n",
       "    .dataframe thead th {\n",
       "        text-align: right;\n",
       "    }\n",
       "</style>\n",
       "<table border=\"1\" class=\"dataframe\">\n",
       "  <thead>\n",
       "    <tr style=\"text-align: right;\">\n",
       "      <th></th>\n",
       "      <th>step</th>\n",
       "      <th>age</th>\n",
       "      <th>gender</th>\n",
       "      <th>merchant</th>\n",
       "      <th>category</th>\n",
       "      <th>amount</th>\n",
       "      <th>fraud</th>\n",
       "    </tr>\n",
       "  </thead>\n",
       "  <tbody>\n",
       "    <tr>\n",
       "      <th>count</th>\n",
       "      <td>594643.000000</td>\n",
       "      <td>594643.000000</td>\n",
       "      <td>594643.000000</td>\n",
       "      <td>594643.000000</td>\n",
       "      <td>594643.000000</td>\n",
       "      <td>594643.000000</td>\n",
       "      <td>594643.000000</td>\n",
       "    </tr>\n",
       "    <tr>\n",
       "      <th>mean</th>\n",
       "      <td>94.986827</td>\n",
       "      <td>3.014151</td>\n",
       "      <td>1.451089</td>\n",
       "      <td>23.866580</td>\n",
       "      <td>11.066393</td>\n",
       "      <td>37.890135</td>\n",
       "      <td>0.012108</td>\n",
       "    </tr>\n",
       "    <tr>\n",
       "      <th>std</th>\n",
       "      <td>51.053632</td>\n",
       "      <td>1.335884</td>\n",
       "      <td>0.503291</td>\n",
       "      <td>8.590215</td>\n",
       "      <td>2.817118</td>\n",
       "      <td>111.402831</td>\n",
       "      <td>0.109369</td>\n",
       "    </tr>\n",
       "    <tr>\n",
       "      <th>min</th>\n",
       "      <td>0.000000</td>\n",
       "      <td>0.000000</td>\n",
       "      <td>0.000000</td>\n",
       "      <td>0.000000</td>\n",
       "      <td>0.000000</td>\n",
       "      <td>0.000000</td>\n",
       "      <td>0.000000</td>\n",
       "    </tr>\n",
       "    <tr>\n",
       "      <th>25%</th>\n",
       "      <td>52.000000</td>\n",
       "      <td>2.000000</td>\n",
       "      <td>1.000000</td>\n",
       "      <td>18.000000</td>\n",
       "      <td>12.000000</td>\n",
       "      <td>13.740000</td>\n",
       "      <td>0.000000</td>\n",
       "    </tr>\n",
       "    <tr>\n",
       "      <th>50%</th>\n",
       "      <td>97.000000</td>\n",
       "      <td>3.000000</td>\n",
       "      <td>1.000000</td>\n",
       "      <td>18.000000</td>\n",
       "      <td>12.000000</td>\n",
       "      <td>26.900000</td>\n",
       "      <td>0.000000</td>\n",
       "    </tr>\n",
       "    <tr>\n",
       "      <th>75%</th>\n",
       "      <td>139.000000</td>\n",
       "      <td>4.000000</td>\n",
       "      <td>2.000000</td>\n",
       "      <td>30.000000</td>\n",
       "      <td>12.000000</td>\n",
       "      <td>42.540000</td>\n",
       "      <td>0.000000</td>\n",
       "    </tr>\n",
       "    <tr>\n",
       "      <th>max</th>\n",
       "      <td>179.000000</td>\n",
       "      <td>7.000000</td>\n",
       "      <td>3.000000</td>\n",
       "      <td>49.000000</td>\n",
       "      <td>14.000000</td>\n",
       "      <td>8329.960000</td>\n",
       "      <td>1.000000</td>\n",
       "    </tr>\n",
       "  </tbody>\n",
       "</table>\n",
       "</div>"
      ],
      "text/plain": [
       "                step            age         gender       merchant  \\\n",
       "count  594643.000000  594643.000000  594643.000000  594643.000000   \n",
       "mean       94.986827       3.014151       1.451089      23.866580   \n",
       "std        51.053632       1.335884       0.503291       8.590215   \n",
       "min         0.000000       0.000000       0.000000       0.000000   \n",
       "25%        52.000000       2.000000       1.000000      18.000000   \n",
       "50%        97.000000       3.000000       1.000000      18.000000   \n",
       "75%       139.000000       4.000000       2.000000      30.000000   \n",
       "max       179.000000       7.000000       3.000000      49.000000   \n",
       "\n",
       "            category         amount          fraud  \n",
       "count  594643.000000  594643.000000  594643.000000  \n",
       "mean       11.066393      37.890135       0.012108  \n",
       "std         2.817118     111.402831       0.109369  \n",
       "min         0.000000       0.000000       0.000000  \n",
       "25%        12.000000      13.740000       0.000000  \n",
       "50%        12.000000      26.900000       0.000000  \n",
       "75%        12.000000      42.540000       0.000000  \n",
       "max        14.000000    8329.960000       1.000000  "
      ]
     },
     "execution_count": 33,
     "metadata": {},
     "output_type": "execute_result"
    }
   ],
   "source": [
    "banksim_filtrado.describe()"
   ]
  },
  {
   "cell_type": "markdown",
   "metadata": {},
   "source": [
    "* *De los estadísticos expuestos, se destaca el **valor máximo** de la variable `amount`, el cual dista notablemente del valor medio para dicho feature.*\n",
    "* *Los estadisticos para las demás variables, parecen exponer valores razonables.*"
   ]
  },
  {
   "cell_type": "markdown",
   "metadata": {},
   "source": [
    "### 3. PCA (Principal Component Analysis)"
   ]
  },
  {
   "cell_type": "markdown",
   "metadata": {},
   "source": [
    "#### 3.1 Aplicación del Modelo de Reducción de Dimensionalidad - PCA"
   ]
  },
  {
   "cell_type": "markdown",
   "metadata": {},
   "source": [
    "* *Se implementará la **técnica de PCA**, ya que es particularmente útil en el tratamiento de datos donde existen múltiples colinealidades entre las características / variables, como ocurre en el presente estudio.*\n",
    "* *El análisis de componentes principales es una técnica matemática utilizada para la reducción de dimensionalidad. Su objetivo es reducir el número de features, conservando la mayor parte de la información original.*\n",
    "* *El **propósito principal** de crear un PCA antes de aplicar cualquier técnica de clasificación, será visualizar en 2D cómo se agrupan las transacciones de fraude y no fraude y si existe una clara separación entre ellas.*\n",
    "* *Así, la aplicación de PCA, se llevará a cabo sin previa aplicación de técnica de sobremuestreo, principalmente para que la reducción de la dimensionalidad, se realice en los datos de entrenamiento principales (orginales) y se logre obtener una real visualización de los datos.*"
   ]
  },
  {
   "cell_type": "markdown",
   "metadata": {},
   "source": [
    "* *Como **X** vamos a considerar 6 variables -que serán escaladas- que sirven como predictoras, con el fin de luego reducir su dimensionalidad y como **y** al feature `fraud`.*\n",
    "* *Como se expuso anteriormente, algunas de ellas parece tener fuerte influencia en la determinación de si una operación es fraudulente o no (como el gasto y el tipo de categoría), y otras no tanta (como los pasos o el género).*"
   ]
  },
  {
   "cell_type": "markdown",
   "metadata": {},
   "source": [
    "1. Se **seleccionan las variables** predictoras (`X`) y la variable a predecir (`y`)."
   ]
  },
  {
   "cell_type": "code",
   "execution_count": 34,
   "metadata": {},
   "outputs": [],
   "source": [
    "X = banksim_filtrado[['step','age','gender','merchant','category','amount']]\n",
    "y = banksim_filtrado[['fraud']]"
   ]
  },
  {
   "cell_type": "markdown",
   "metadata": {},
   "source": [
    "2. Se **escalan los datos**. Normalizamos las X."
   ]
  },
  {
   "cell_type": "code",
   "execution_count": 35,
   "metadata": {},
   "outputs": [
    {
     "data": {
      "text/plain": [
       "array([[-1.11494253e+00,  5.00000000e-01,  1.00000000e+00,\n",
       "         1.00000000e+00,  0.00000000e+00, -7.76041667e-01],\n",
       "       [-1.11494253e+00, -5.00000000e-01,  1.00000000e+00,\n",
       "         1.00000000e+00,  0.00000000e+00,  4.43750000e-01],\n",
       "       [-1.11494253e+00,  5.00000000e-01,  0.00000000e+00,\n",
       "         0.00000000e+00,  0.00000000e+00, -3.47222222e-04],\n",
       "       [-1.11494253e+00,  0.00000000e+00,  1.00000000e+00,\n",
       "         1.00000000e+00,  0.00000000e+00, -3.35069444e-01],\n",
       "       [-1.11494253e+00,  1.00000000e+00,  1.00000000e+00,\n",
       "         1.00000000e+00,  0.00000000e+00,  3.06250000e-01],\n",
       "       [-1.11494253e+00,  0.00000000e+00,  0.00000000e+00,\n",
       "         1.00000000e+00,  0.00000000e+00, -3.78472222e-02]])"
      ]
     },
     "execution_count": 35,
     "metadata": {},
     "output_type": "execute_result"
    }
   ],
   "source": [
    "from sklearn.preprocessing import RobustScaler # Escala características usando estadísticas que sean robustas a valores atípicos\n",
    "\n",
    "X_escalado = RobustScaler().fit_transform(X)\n",
    "X_escalado[:6]"
   ]
  },
  {
   "cell_type": "markdown",
   "metadata": {},
   "source": [
    "3. Se define la **matriz de Covarianza**."
   ]
  },
  {
   "cell_type": "code",
   "execution_count": 36,
   "metadata": {},
   "outputs": [
    {
     "data": {
      "text/plain": [
       "array([[ 3.44361648e-01,  4.58305769e-04, -3.26954546e-04,\n",
       "        -6.56141593e-02, -2.85478624e-02, -1.80718097e-02],\n",
       "       [ 4.58305769e-04,  4.46146554e-01,  1.68764137e-03,\n",
       "         3.33398957e-03,  9.06201108e-03, -1.01526670e-02],\n",
       "       [-3.26954546e-04,  1.68764137e-03,  2.53302327e-01,\n",
       "        -2.69979540e-03,  1.09174944e-02, -2.50898845e-02],\n",
       "       [-6.56141593e-02,  3.33398957e-03, -2.69979540e-03,\n",
       "         5.12442990e-01, -4.94948445e-01,  1.82188582e-01],\n",
       "       [-2.85478624e-02,  9.06201108e-03,  1.09174944e-02,\n",
       "        -4.94948445e-01,  7.93615119e+00, -1.07595566e+00],\n",
       "       [-1.80718097e-02, -1.01526670e-02, -2.50898845e-02,\n",
       "         1.82188582e-01, -1.07595566e+00,  1.49626142e+01]])"
      ]
     },
     "execution_count": 36,
     "metadata": {},
     "output_type": "execute_result"
    }
   ],
   "source": [
    "# Matriz de covarianza\n",
    "features = X_escalado.T\n",
    "cov_matrix = np.cov(features)\n",
    "cov_matrix[:6]"
   ]
  },
  {
   "cell_type": "markdown",
   "metadata": {},
   "source": [
    "* En la diagonal de la matriz de covarianzas, tenemos varianzas, y los demás elementos son las covarianzas."
   ]
  },
  {
   "cell_type": "markdown",
   "metadata": {},
   "source": [
    "4. Se realiza la **Eigendecomposition**."
   ]
  },
  {
   "cell_type": "code",
   "execution_count": 37,
   "metadata": {},
   "outputs": [],
   "source": [
    "# Eigendecomposition\n",
    "valores, vectores = np.linalg.eig (cov_matrix) "
   ]
  },
  {
   "cell_type": "markdown",
   "metadata": {},
   "source": [
    "* *A partir de ésto, podemos calcular el porcentaje de varianza explicada (explained variance) por componente principal:*"
   ]
  },
  {
   "cell_type": "code",
   "execution_count": 38,
   "metadata": {},
   "outputs": [
    {
     "name": "stdout",
     "output_type": "stream",
     "text": [
      "0.6186115361298034 \n",
      " [0.6186115361298034]\n",
      "0.9377482760064421 \n",
      " [0.6186115361298034, 0.3191367398766387]\n",
      "0.9584706125874429 \n",
      " [0.6186115361298034, 0.3191367398766387, 0.02072233658100085]\n",
      "0.9767070632526247 \n",
      " [0.6186115361298034, 0.3191367398766387, 0.02072233658100085, 0.018236450665181786]\n",
      "0.9896459490949113 \n",
      " [0.6186115361298034, 0.3191367398766387, 0.02072233658100085, 0.018236450665181786, 0.012938885842286588]\n",
      "1.0 \n",
      " [0.6186115361298034, 0.3191367398766387, 0.02072233658100085, 0.018236450665181786, 0.012938885842286588, 0.010354050905088735]\n"
     ]
    }
   ],
   "source": [
    "varianzas_explicadas = [] \n",
    "for i in range (len (valores)): \n",
    "    varianzas_explicadas.append (valores [i] / np.sum (valores)) \n",
    " \n",
    "    print (np.sum (varianzas_explicadas), '\\n', varianzas_explicadas)"
   ]
  },
  {
   "cell_type": "markdown",
   "metadata": {},
   "source": [
    "* *El primer valor (penúltima fila) es solo la suma de las varianzas explicadas y debe ser igual a 1. El segundo valor (última fila) es una matriz, que representa el porcentaje de varianza explicada por componente principal.*\n",
    "* *El primer componente principal representa el 62% de la varianza de los datos, el segundo el 32%.*"
   ]
  },
  {
   "cell_type": "markdown",
   "metadata": {},
   "source": [
    "* 5. **Visualizaciones**."
   ]
  },
  {
   "cell_type": "code",
   "execution_count": 39,
   "metadata": {},
   "outputs": [],
   "source": [
    "proyectado_1 = X_escalado.dot (vectores.T [0]) \n",
    "proyectado_2 = X_escalado.dot (vectores.T [1])\n",
    "res = pd.DataFrame (proyectado_1, columns = ['PC1']) \n",
    "res ['PC2'] = proyectado_2 \n",
    "res ['Y'] = y"
   ]
  },
  {
   "cell_type": "markdown",
   "metadata": {},
   "source": [
    "* *Primero se visualiza el conjunto de datos en una dimensión: como una línea (no incluímos a PC2).*"
   ]
  },
  {
   "cell_type": "code",
   "execution_count": 40,
   "metadata": {},
   "outputs": [
    {
     "name": "stderr",
     "output_type": "stream",
     "text": [
      "C:\\Users\\Ale\\anaconda3\\envs\\ds\\lib\\site-packages\\seaborn\\_decorators.py:36: FutureWarning: Pass the following variables as keyword args: x, y. From version 0.12, the only valid positional argument will be `data`, and passing other arguments without an explicit keyword will result in an error or misinterpretation.\n",
      "  warnings.warn(\n"
     ]
    },
    {
     "data": {
      "text/plain": [
       "<AxesSubplot:xlabel='PC1'>"
      ]
     },
     "execution_count": 40,
     "metadata": {},
     "output_type": "execute_result"
    },
    {
     "data": {
      "image/png": "[encoded data removed]",
      "text/plain": [
       "<Figure size 720x360 with 1 Axes>"
      ]
     },
     "metadata": {},
     "output_type": "display_data"
    }
   ],
   "source": [
    "plt.figure(figsize=(10, 5))\n",
    "sns.scatterplot (res ['PC1'], [0] * len (res), hue = res ['Y'], s = 200)"
   ]
  },
  {
   "cell_type": "markdown",
   "metadata": {},
   "source": [
    "* *Luego, se exponen los datos en un espacio 2D:*"
   ]
  },
  {
   "cell_type": "code",
   "execution_count": 41,
   "metadata": {},
   "outputs": [
    {
     "name": "stderr",
     "output_type": "stream",
     "text": [
      "C:\\Users\\Ale\\anaconda3\\envs\\ds\\lib\\site-packages\\seaborn\\_decorators.py:36: FutureWarning: Pass the following variables as keyword args: x, y. From version 0.12, the only valid positional argument will be `data`, and passing other arguments without an explicit keyword will result in an error or misinterpretation.\n",
      "  warnings.warn(\n"
     ]
    },
    {
     "data": {
      "text/plain": [
       "<AxesSubplot:xlabel='PC1', ylabel='PC2'>"
      ]
     },
     "execution_count": 41,
     "metadata": {},
     "output_type": "execute_result"
    },
    {
     "data": {
      "image/png": "[encoded data removed]",
      "text/plain": [
       "<Figure size 720x360 with 1 Axes>"
      ]
     },
     "metadata": {},
     "output_type": "display_data"
    }
   ],
   "source": [
    "plt.figure (figsize = (10, 5)) \n",
    "sns.scatterplot(res['PC1'], res['PC2'], hue=res['Y'], s=100)"
   ]
  },
  {
   "cell_type": "markdown",
   "metadata": {},
   "source": [
    "* *En ambos gráficos se observa que las variables parecen relativamente fácil de separar.*\n",
    "* *Casi la totalidad de las transacciones No Fraudulentas están concentradas en el PC2, mientras que las transacciones fraudulentas, se encuentran más extendidas en la dimensionalidad del PC1.*"
   ]
  },
  {
   "cell_type": "markdown",
   "metadata": {},
   "source": [
    "6. Se expone cómo funciona el **modelo PCA**, con 2 componentes principales."
   ]
  },
  {
   "cell_type": "code",
   "execution_count": 42,
   "metadata": {},
   "outputs": [
    {
     "name": "stdout",
     "output_type": "stream",
     "text": [
      "original shape:    (594643, 6)\n",
      "transformed shape: (594643, 2)\n"
     ]
    }
   ],
   "source": [
    "from sklearn.decomposition import PCA # Para poder realizar la reducción de dimensionalidad\n",
    "\n",
    "pca = PCA(n_components=2)\n",
    "X_pca = pca.fit_transform(X_escalado)\n",
    "print(\"original shape:   \", X.shape)\n",
    "print(\"transformed shape:\", X_pca.shape)"
   ]
  },
  {
   "cell_type": "code",
   "execution_count": 43,
   "metadata": {},
   "outputs": [
    {
     "name": "stdout",
     "output_type": "stream",
     "text": [
      "[[-9.97739996e-04 -7.71986275e-04 -1.78027050e-03  1.73779020e-02\n",
      "  -1.49104477e-01  9.88666325e-01]\n",
      " [-3.58305493e-03  9.79632821e-04  9.51385748e-04 -6.31924513e-02\n",
      "   9.86670204e-01  1.49913038e-01]]\n"
     ]
    }
   ],
   "source": [
    "print(pca.components_)"
   ]
  },
  {
   "cell_type": "markdown",
   "metadata": {},
   "source": [
    "* *Los datos transformados se han reducido a una sola dimensión.*\n",
    "* *La reducción de dimensionalidad de PCA, eliminó la información a lo largo del eje o ejes principales menos importantes, dejando solo el componente o componentes de los datos con la mayor varianza, en éste caso, el primer y segundo componente.*\n",
    "* *Éste conjunto de datos de dimensión reducida es, en algunos sentidos, \"lo suficientemente bueno\" para codificar las relaciones más importantes entre los puntos: a pesar de reducir la dimensión de los datos, la relación general entre los puntos de datos se conserva en su mayoría.*"
   ]
  },
  {
   "cell_type": "markdown",
   "metadata": {},
   "source": [
    "#### 3.2 Entrenamiento del modelo de Árbol de Decisión, una vez realizada la Reducción de Dimensionalidad"
   ]
  },
  {
   "cell_type": "code",
   "execution_count": 44,
   "metadata": {},
   "outputs": [],
   "source": [
    "from sklearn.model_selection import train_test_split # Para dividir los datos en subconjuntos de entrenamiento y prueba\n",
    "\n",
    "X_train, X_test, y_train, y_test = train_test_split(X_pca, y, test_size=0.30, random_state=10)"
   ]
  },
  {
   "cell_type": "code",
   "execution_count": 45,
   "metadata": {},
   "outputs": [],
   "source": [
    "from sklearn.tree import DecisionTreeRegressor # Regresor del Árbol de Decisión\n",
    "from sklearn.metrics import mean_squared_error # Para cálculo del RMSE\n",
    "\n",
    "lista_rmse_train_dt = []\n",
    "lista_rmse_test_dt = []\n",
    "\n",
    "max_depths = [1,2,3,4,5,6,7,8,9,10,20,25,30,40,50,80]\n",
    "\n",
    "for max_depth in max_depths:\n",
    "\n",
    "    # Se define el modelo con la profundidad deseada\n",
    "    tree_regressor = DecisionTreeRegressor(max_depth = max_depth, random_state=10)\n",
    "    \n",
    "    tree_regressor.fit(X_train, y_train)\n",
    "    \n",
    "    y_train_pred = tree_regressor.predict(X_train)\n",
    "    rmse_train = np.sqrt(mean_squared_error(y_train, y_train_pred))\n",
    "    \n",
    "    y_test_pred = tree_regressor.predict(X_test)\n",
    "    rmse_test = np.sqrt(mean_squared_error(y_test, y_test_pred))\n",
    "    \n",
    "    lista_rmse_train_dt.append(rmse_train)\n",
    "    lista_rmse_test_dt.append(rmse_test)"
   ]
  },
  {
   "cell_type": "code",
   "execution_count": 46,
   "metadata": {},
   "outputs": [
    {
     "data": {
      "text/plain": [
       "Text(0.5, 1.0, 'Curva de Validación - Árbol de Decisión')"
      ]
     },
     "execution_count": 46,
     "metadata": {},
     "output_type": "execute_result"
    },
    {
     "data": {
      "image/png": "[encoded data removed]",
      "text/plain": [
       "<Figure size 576x288 with 1 Axes>"
      ]
     },
     "metadata": {},
     "output_type": "display_data"
    }
   ],
   "source": [
    "plt.figure(figsize = (8,4))\n",
    "plt.plot(max_depths, lista_rmse_train_dt,'o-',label='train' )\n",
    "plt.plot(max_depths, lista_rmse_test_dt,'o-',label='test')\n",
    "plt.legend()\n",
    "plt.xlabel(\"Max. Profundidad\")\n",
    "plt.ylabel(\"RMSE\")\n",
    "plt.title('Curva de Validación - Árbol de Decisión')"
   ]
  },
  {
   "cell_type": "code",
   "execution_count": 47,
   "metadata": {},
   "outputs": [
    {
     "data": {
      "text/plain": [
       "DecisionTreeRegressor(max_depth=10, random_state=42)"
      ]
     },
     "execution_count": 47,
     "metadata": {},
     "output_type": "execute_result"
    }
   ],
   "source": [
    "regresor = DecisionTreeRegressor(max_depth=10, random_state=42)\n",
    "regresor.fit(X_train,y_train)"
   ]
  },
  {
   "cell_type": "code",
   "execution_count": 48,
   "metadata": {},
   "outputs": [],
   "source": [
    "y_train_pred = regresor.predict(X_train)\n",
    "y_test_pred = regresor.predict(X_test)"
   ]
  },
  {
   "cell_type": "code",
   "execution_count": 49,
   "metadata": {},
   "outputs": [
    {
     "name": "stdout",
     "output_type": "stream",
     "text": [
      "Raíz del error cuadrático medio en Train: 0.05586313359928669\n",
      "Raíz del error cuadrático medio en Test: 0.06506419827317063\n"
     ]
    }
   ],
   "source": [
    "rmse_train = np.sqrt(mean_squared_error(y_train, y_train_pred))\n",
    "rmse_test = np.sqrt(mean_squared_error(y_test, y_test_pred))\n",
    "print(f'Raíz del error cuadrático medio en Train: {rmse_train}')\n",
    "print(f'Raíz del error cuadrático medio en Test: {rmse_test}')"
   ]
  },
  {
   "cell_type": "markdown",
   "metadata": {},
   "source": [
    "* *Los RMSE tanto para Train como para Test, resultan similares entre sí, y a su vez con buen desempeño.*"
   ]
  },
  {
   "cell_type": "code",
   "execution_count": 50,
   "metadata": {},
   "outputs": [
    {
     "data": {
      "text/plain": [
       "array([0.74606797, 0.25393203])"
      ]
     },
     "execution_count": 50,
     "metadata": {},
     "output_type": "execute_result"
    }
   ],
   "source": [
    "regresor.feature_importances_"
   ]
  },
  {
   "cell_type": "markdown",
   "metadata": {},
   "source": [
    "* *La primer característica tiene una mayor importancia relativa a la hora de realizar predicciones (su importancia es del 75%).*\n",
    "* *El mismo posee una buena capacidad de predicción, por el hecho de haber realizado reducción de dimensionalidad, pasando de 6 features a 2 estimadores.*\n",
    "* *No se observa en éste caso sobrejuste, ya que los RMSE obtenidos para Train y Test son similares.*"
   ]
  },
  {
   "cell_type": "markdown",
   "metadata": {},
   "source": [
    "### 4. Sobremuestreo (Oversampling) con SMOTE"
   ]
  },
  {
   "cell_type": "markdown",
   "metadata": {},
   "source": [
    "* *En el presente análisis, se llevará a cabo una técnica de sobremuestreo llamada SMOTE [3] (técnica de sobremuestreo de minorías sintéticas).* \n",
    "* *SMOTE creará nuevos puntos de datos de la clase minoritaria utilizando las instancias vecinas, de modo que las muestras generadas no son copias exactas, sino que son similares a las instancias que tenemos.*"
   ]
  },
  {
   "cell_type": "markdown",
   "metadata": {},
   "source": [
    "1. Se **seleccionan las variables** predictoras (`X`) y la variable a predecir (`y`)."
   ]
  },
  {
   "cell_type": "code",
   "execution_count": 51,
   "metadata": {},
   "outputs": [
    {
     "name": "stdout",
     "output_type": "stream",
     "text": [
      "   step  age  gender  merchant  category  amount\n",
      "0     0    4       2        30        12    4.55\n",
      "1     0    2       2        30        12   39.68\n",
      "2     0    4       1        18        12   26.89\n",
      "3     0    3       2        30        12   17.25\n",
      "4     0    5       2        30        12   35.72 \n",
      "\n",
      "   fraud\n",
      "0      0\n",
      "1      0\n",
      "2      0\n",
      "3      0\n",
      "4      0\n"
     ]
    }
   ],
   "source": [
    "X = banksim_filtrado[['step','age','gender','merchant','category','amount']]\n",
    "y = banksim_filtrado[['fraud']]\n",
    "\n",
    "print(X.head(),\"\\n\")\n",
    "print(y.head())"
   ]
  },
  {
   "cell_type": "code",
   "execution_count": 52,
   "metadata": {},
   "outputs": [
    {
     "data": {
      "text/plain": [
       "fraud    7200\n",
       "dtype: int64"
      ]
     },
     "execution_count": 52,
     "metadata": {},
     "output_type": "execute_result"
    }
   ],
   "source": [
    "y[y==1].count()"
   ]
  },
  {
   "cell_type": "code",
   "execution_count": 53,
   "metadata": {},
   "outputs": [
    {
     "data": {
      "text/plain": [
       "fraud    587443\n",
       "dtype: int64"
      ]
     },
     "execution_count": 53,
     "metadata": {},
     "output_type": "execute_result"
    }
   ],
   "source": [
    "y[y==0].count()"
   ]
  },
  {
   "cell_type": "markdown",
   "metadata": {},
   "source": [
    "* *Vemos el desbalanceo de los datos.*"
   ]
  },
  {
   "cell_type": "markdown",
   "metadata": {},
   "source": [
    "2. Aplicamos **SMOTE**."
   ]
  },
  {
   "cell_type": "code",
   "execution_count": 54,
   "metadata": {},
   "outputs": [
    {
     "name": "stdout",
     "output_type": "stream",
     "text": [
      "fraud\n",
      "0        587443\n",
      "1        587443\n",
      "dtype: int64\n"
     ]
    }
   ],
   "source": [
    "from imblearn.over_sampling import SMOTE # Importamos librería SMOTE, para poder realizar el sobremuestreo de los datos\n",
    "\n",
    "#Transformamos el Dataset\n",
    "sm = SMOTE(random_state=42)\n",
    "X_res, y_res = sm.fit_resample(X, y)\n",
    "y_res = pd.DataFrame(y_res)\n",
    "print(y_res.value_counts())"
   ]
  },
  {
   "cell_type": "markdown",
   "metadata": {},
   "source": [
    "* *Una vez aplicado SMOTE para equilibrar el conjunto de datos, los resultados muestran que tenemos el número exacto de instancias de clase (1 y 0)*"
   ]
  },
  {
   "cell_type": "markdown",
   "metadata": {},
   "source": [
    "### 5. Modelos de Machine Learning"
   ]
  },
  {
   "cell_type": "markdown",
   "metadata": {},
   "source": [
    "* *__Aclaración:__ Los clasificadores basados en Árboles de decisión y los métodos de conjuntos basados en Árboles (RF, XGB) son invariantes al escalado de características (no lo requieren para converger a los errores mínimos), pero aún así, podría ser una buena idea reescalar / estandarizar su datos.*  \n",
    "* *En el presente apartado, se optó por llevar a cabo los modelos de Árboles de Decisión y Random Forest, **sin previo escalado de los datos**.*"
   ]
  },
  {
   "cell_type": "markdown",
   "metadata": {},
   "source": [
    "1. Se realiza el __Train Test Split__ para dividir el entrenamiento del test."
   ]
  },
  {
   "cell_type": "code",
   "execution_count": 55,
   "metadata": {},
   "outputs": [],
   "source": [
    "X_train, X_test, y_train, y_test = train_test_split(X_res,y_res,test_size=0.3,random_state=42,shuffle=True,stratify=y_res)"
   ]
  },
  {
   "cell_type": "markdown",
   "metadata": {},
   "source": [
    "2. Se define una función para trazar la __curva ROC_AUC__."
   ]
  },
  {
   "cell_type": "markdown",
   "metadata": {},
   "source": [
    "* *La curva ROC-AUC, es una buena forma visual de ver el performance de los modelos de clasificación a confeccionar.*"
   ]
  },
  {
   "cell_type": "code",
   "execution_count": 56,
   "metadata": {},
   "outputs": [],
   "source": [
    "# Función para trazar la curva ROC_AUC\n",
    "\n",
    "def plot_roc_auc(y_test, preds):\n",
    "    fpr, tpr, threshold = roc_curve(y_test, preds)\n",
    "    roc_auc = auc(fpr, tpr)\n",
    "    plt.title('ROC curve')\n",
    "    plt.plot(fpr, tpr, 'b', label = 'AUC = %0.2f' % roc_auc)\n",
    "    plt.legend(loc = 'lower right')\n",
    "    plt.plot([0, 1], [0, 1],'r--')\n",
    "    plt.xlim([0, 1])\n",
    "    plt.ylim([0, 1])\n",
    "    plt.ylabel('Ratio Verdadero Positivo')\n",
    "    plt.xlabel('Ratio Falso Positivo')\n",
    "    plt.show()"
   ]
  },
  {
   "cell_type": "markdown",
   "metadata": {},
   "source": [
    "#### 5.1 Modelo Benchmark - Árbol de Decisión"
   ]
  },
  {
   "cell_type": "code",
   "execution_count": 57,
   "metadata": {},
   "outputs": [
    {
     "name": "stdout",
     "output_type": "stream",
     "text": [
      "Reporte de Clasificación para Árbol de Decisión: \n",
      "               precision    recall  f1-score   support\n",
      "\n",
      "           0       0.98      0.95      0.97    176233\n",
      "           1       0.95      0.98      0.97    176233\n",
      "\n",
      "    accuracy                           0.97    352466\n",
      "   macro avg       0.97      0.97      0.97    352466\n",
      "weighted avg       0.97      0.97      0.97    352466\n",
      "\n",
      "Matriz de Confusión para Árbol de Decisión: \n",
      " [[167908   8325]\n",
      " [  3489 172744]]\n"
     ]
    },
    {
     "data": {
      "image/png": "[encoded data removed]",
      "text/plain": [
       "<Figure size 432x288 with 1 Axes>"
      ]
     },
     "metadata": {},
     "output_type": "display_data"
    }
   ],
   "source": [
    "from sklearn.tree import DecisionTreeClassifier # Clasificador deL Árbol de Decisión\n",
    "from sklearn.metrics import classification_report # Crea un informe de texto que muestra las principales métricas de clasificación\n",
    "from sklearn.metrics import confusion_matrix # Calcula la matriz de confusión para evaluar la precisión de una clasificación\n",
    "from sklearn.metrics import roc_curve, auc # Para visualizar la Curva ROC y el AUC\n",
    "from sklearn.metrics import accuracy_score # Calcula el accuracy de una clasificación (incluído en classification_report)\n",
    "\n",
    "tree = DecisionTreeClassifier(max_depth=4, random_state=10)\n",
    "\n",
    "tree.fit(X_train,y_train)\n",
    "y_pred = tree.predict(X_test)\n",
    "\n",
    "\n",
    "print(\"Reporte de Clasificación para Árbol de Decisión: \\n\", classification_report(y_test, y_pred))\n",
    "print(\"Matriz de Confusión para Árbol de Decisión: \\n\", confusion_matrix(y_test,y_pred))\n",
    "plot_roc_auc(y_test, tree.predict_proba(X_test)[:,1])"
   ]
  },
  {
   "cell_type": "markdown",
   "metadata": {},
   "source": [
    "* *Se observa que un modelo simple de Árboles de Decisión, parece tener un buen desempeño, determinado principalmente en los valores obtenidos de las métricas `precision` y `accuracy`*\n",
    "* *El mayor error en el que incurre el modelo, es en los `falsos negativos`, es decir en aquellas transacciones Fraudulentas, que fueron predichas como No Fraudulentas.*"
   ]
  },
  {
   "cell_type": "code",
   "execution_count": 58,
   "metadata": {},
   "outputs": [
    {
     "name": "stderr",
     "output_type": "stream",
     "text": [
      "C:\\Users\\Ale\\anaconda3\\envs\\ds\\lib\\site-packages\\seaborn\\_decorators.py:36: FutureWarning: Pass the following variables as keyword args: x, y. From version 0.12, the only valid positional argument will be `data`, and passing other arguments without an explicit keyword will result in an error or misinterpretation.\n",
      "  warnings.warn(\n"
     ]
    },
    {
     "data": {
      "image/png": "[encoded data removed]",
      "text/plain": [
       "<Figure size 432x288 with 1 Axes>"
      ]
     },
     "metadata": {},
     "output_type": "display_data"
    }
   ],
   "source": [
    "importances = tree.feature_importances_\n",
    "columns = X.columns\n",
    "sns.barplot(columns, importances)\n",
    "plt.title('Importancia de cada Feature')\n",
    "plt.show()"
   ]
  },
  {
   "cell_type": "markdown",
   "metadata": {},
   "source": [
    "* *Como se observa, la variable más importante a la hora de predecir, es `amount` por lejos.*"
   ]
  },
  {
   "cell_type": "markdown",
   "metadata": {},
   "source": [
    "#### 5.2. Random Forest Classifier"
   ]
  },
  {
   "cell_type": "markdown",
   "metadata": {},
   "source": [
    "* *Se elije el modelo de ML Random Forest, por ser **muy popular** para la detección de fraudes.*"
   ]
  },
  {
   "cell_type": "markdown",
   "metadata": {},
   "source": [
    "* *__Random Forest__ es un tipo de algoritmo de aprendizaje automático supervisado basado en el aprendizaje por conjuntos.*\n",
    "* *El aprendizaje por conjuntos, es un tipo de aprendizaje en el que se combinan diferentes algoritmos del mismo tipo, es decir, varios árboles de decisión, lo que da como resultado un bosque de árboles -de ahí el nombre \"Random Forest\" o Bosque Aleatorio-, para así formar un modelo de predicción más potente.*\n",
    "* *Dicho algoritmo, al igual que el Árbol de Decisión, es un **modelo de aprendizaje supervisado para clasificación**, aunque también puede usarse para problemas de regresión.*\n",
    "* *No debe dejar de nombrarse su principal desventaja: debido a su complejidad, requieren mucho más tiempo para entrenarse que otros algoritmos comparables.*"
   ]
  },
  {
   "cell_type": "markdown",
   "metadata": {},
   "source": [
    "##### 5.2.1 Optimización de Hiperparámetros: RandomSearch"
   ]
  },
  {
   "cell_type": "markdown",
   "metadata": {},
   "source": [
    "* *El ajuste de los hiperparámetros puede ser ventajoso para crear un modelo que sea mejor en la clasificación.*\n",
    "* *En el caso de Random Forest, puede no ser necesario, ya que los Bosques Aleatorios ya son muy buenos en la clasificación.*\n",
    "* *Utilizar una búsqueda exhaustiva de GridSearch para elegir los valores de los hiperparámetros también puede llevar mucho tiempo.*\n",
    "* *Sin embargo, en los casos en que sólo hay unos pocos valores potenciales para sus hiperparámetros o cuando su modelo de clasificación inicial no es muy preciso, podría ser una buena idea investigar al menos el efecto de cambiar algunos de los valores de hiperparámetros en su modelo.*"
   ]
  },
  {
   "cell_type": "markdown",
   "metadata": {},
   "source": [
    "* *En el presente estudio, en el que el Dataset con el que trabajamos tiene un gran número de instancias, la aplicación de Gridsearch podría demorar horas, y el resultado de aplicarlo o no sería similar.*\n",
    "* *Es por ello, que **a modo de demostración**, es decir, que no es realmente necesario de aplicar, se realizará una optimización de hiperparámetros a partir de RandomSearch, que también demora (unos 30 minutos aproximadamente), pero es más viable en función de los tiempos.*"
   ]
  },
  {
   "cell_type": "markdown",
   "metadata": {},
   "source": [
    "* *Se puede optar por no correr la siguiente celda, ya que, los mejores hiperparámetros devueltos a partir de RandomSearch, fueron considerados en el punto `5.2.2`.*"
   ]
  },
  {
   "cell_type": "code",
   "execution_count": 59,
   "metadata": {},
   "outputs": [
    {
     "name": "stdout",
     "output_type": "stream",
     "text": [
      "Fitting 2 folds for each of 32 candidates, totalling 64 fits\n"
     ]
    }
   ],
   "source": [
    "from sklearn.ensemble import RandomForestClassifier\n",
    "from sklearn.model_selection import cross_val_score,KFold\n",
    "from sklearn.model_selection import RandomizedSearchCV\n",
    "\n",
    "rf_clf_rs = RandomForestClassifier(random_state=42)\n",
    "n_estimators = [50,100,150,200]\n",
    "max_features = ['auto', 'sqrt']\n",
    "max_depth = [2,4,6,8]\n",
    "\n",
    "param_grid = dict(max_depth=max_depth,max_features=max_features,n_estimators=n_estimators)\n",
    "kfold = KFold(n_splits=2, shuffle=True, random_state=0)\n",
    "ramdom = RandomizedSearchCV(estimator=rf_clf_rs,param_distributions=param_grid,verbose=1,n_iter=32,cv=kfold,n_jobs=-1)\n",
    "# n_iter=32 --> The total space of parameters is 32 --> máximo de iteraciones que me permite realizar\n",
    "\n",
    "ramdom_result = ramdom.fit(X_train, y_train.values.ravel())"
   ]
  },
  {
   "cell_type": "code",
   "execution_count": 60,
   "metadata": {},
   "outputs": [
    {
     "name": "stdout",
     "output_type": "stream",
     "text": [
      "Mejores hiperparametros: {'n_estimators': 50, 'max_features': 'auto', 'max_depth': 8}\n",
      "Mejor Score: 0.9805221176527809\n",
      "\n"
     ]
    }
   ],
   "source": [
    "print(\"Mejores hiperparametros: \"+str(ramdom_result.best_params_))\n",
    "print(\"Mejor Score: \"+str(ramdom_result.best_score_)+'\\n')"
   ]
  },
  {
   "cell_type": "markdown",
   "metadata": {},
   "source": [
    "##### 5.2.2 Se entrena el modelo Random Forest con los argumentos obtenidos de RandomSearch"
   ]
  },
  {
   "cell_type": "code",
   "execution_count": 61,
   "metadata": {},
   "outputs": [
    {
     "name": "stderr",
     "output_type": "stream",
     "text": [
      "[Parallel(n_jobs=-1)]: Using backend ThreadingBackend with 8 concurrent workers.\n",
      "[Parallel(n_jobs=-1)]: Done  34 tasks      | elapsed:   17.7s\n",
      "[Parallel(n_jobs=-1)]: Done  50 out of  50 | elapsed:   22.9s finished\n",
      "[Parallel(n_jobs=8)]: Using backend ThreadingBackend with 8 concurrent workers.\n",
      "[Parallel(n_jobs=8)]: Done  34 tasks      | elapsed:    0.2s\n",
      "[Parallel(n_jobs=8)]: Done  50 out of  50 | elapsed:    0.3s finished\n"
     ]
    },
    {
     "name": "stdout",
     "output_type": "stream",
     "text": [
      "Reporte de Clasificación para Random Forest Classifier: \n",
      "               precision    recall  f1-score   support\n",
      "\n",
      "           0       0.99      0.97      0.98    176233\n",
      "           1       0.97      0.99      0.98    176233\n",
      "\n",
      "    accuracy                           0.98    352466\n",
      "   macro avg       0.98      0.98      0.98    352466\n",
      "weighted avg       0.98      0.98      0.98    352466\n",
      "\n",
      "Matriz de Confusión para Random Forest Classifier: \n",
      " [[170513   5720]\n",
      " [  1295 174938]]\n"
     ]
    },
    {
     "name": "stderr",
     "output_type": "stream",
     "text": [
      "[Parallel(n_jobs=8)]: Using backend ThreadingBackend with 8 concurrent workers.\n",
      "[Parallel(n_jobs=8)]: Done  34 tasks      | elapsed:    0.2s\n",
      "[Parallel(n_jobs=8)]: Done  50 out of  50 | elapsed:    0.3s finished\n"
     ]
    },
    {
     "data": {
      "image/png": "[encoded data removed]",
      "text/plain": [
       "<Figure size 432x288 with 1 Axes>"
      ]
     },
     "metadata": {},
     "output_type": "display_data"
    }
   ],
   "source": [
    "import sklearn.metrics as metrics\n",
    "\n",
    "rf_clf_rs = RandomForestClassifier(n_estimators=50,max_features='auto',max_depth=8,random_state=42,\n",
    "                                verbose=1,class_weight=\"balanced\",oob_score=True,n_jobs=-1)\n",
    "\n",
    "rf_clf_rs.fit(X_train,y_train.values.ravel())\n",
    "y_test_pred = rf_clf_rs.predict(X_test)\n",
    "\n",
    "print(\"Reporte de Clasificación para Random Forest Classifier: \\n\", classification_report(y_test, y_test_pred))\n",
    "print(\"Matriz de Confusión para Random Forest Classifier: \\n\", confusion_matrix(y_test,y_test_pred))\n",
    "plot_roc_auc(y_test, rf_clf_rs.predict_proba(X_test)[:,1])"
   ]
  },
  {
   "cell_type": "markdown",
   "metadata": {},
   "source": [
    "* *El desempeño del presente modelo, ha demostrado una notable mejoría en relación al de Árboles de Decisión.*\n",
    "* *El hecho de que en la curva ROC-AUC, el **AUC sea = 1**, expone que el valor diagnóstico es perfecto.* \n",
    "* *El mayor error en el que incurre el modelo es, al igual que en Árboles de Decisión, en los `falsos negativos`. Sin embargo, en éste caso el error se vió reducido en forma notable, ya que pasó de 8.325 a 5.720.*\n",
    "* *Además, los Falsos Positivos, es decir, aquellas transacciones No Fraudulentas que fueron predichas como Fraudulentas, también se redujeron entre modelos, y en éste caso a más de la mitad, pasando de 3.489 a 1.295.*"
   ]
  },
  {
   "cell_type": "code",
   "execution_count": 62,
   "metadata": {},
   "outputs": [
    {
     "name": "stderr",
     "output_type": "stream",
     "text": [
      "[Parallel(n_jobs=8)]: Using backend ThreadingBackend with 8 concurrent workers.\n",
      "[Parallel(n_jobs=8)]: Done  34 tasks      | elapsed:    0.2s\n",
      "[Parallel(n_jobs=8)]: Done  50 out of  50 | elapsed:    0.3s finished\n",
      "[Parallel(n_jobs=8)]: Using backend ThreadingBackend with 8 concurrent workers.\n",
      "[Parallel(n_jobs=8)]: Done  34 tasks      | elapsed:    0.7s\n",
      "[Parallel(n_jobs=8)]: Done  50 out of  50 | elapsed:    1.0s finished\n"
     ]
    }
   ],
   "source": [
    "y_test_pred = rf_clf_rs.predict(X_test)\n",
    "y_train_pred = rf_clf_rs.predict(X_train)"
   ]
  },
  {
   "cell_type": "code",
   "execution_count": 63,
   "metadata": {},
   "outputs": [
    {
     "name": "stdout",
     "output_type": "stream",
     "text": [
      "Accuracy sobre el train set:  0.9804442985335959\n",
      "Accuracy sobre el test set:  0.9800973710939495\n"
     ]
    }
   ],
   "source": [
    "print('Accuracy sobre el train set: ', metrics.accuracy_score(y_train, y_train_pred)) # Accuracy Asociado al Train\n",
    "print('Accuracy sobre el test set: ', metrics.accuracy_score(y_test, y_test_pred)) # Accuracy Asociado al Test"
   ]
  },
  {
   "cell_type": "markdown",
   "metadata": {},
   "source": [
    "* *Además, tenemos en éste caso, **bajo sesgo** y **baja varianza**, ya que el desempeño es bueno tanto en el train como en el test.*\n",
    "* *Ésto es precisamente lo que se busca en un modelo, por lo que el presente escenario es muy favorable, ya que la complejidad resulta ser la justa y necesaria.*"
   ]
  },
  {
   "cell_type": "code",
   "execution_count": 64,
   "metadata": {},
   "outputs": [
    {
     "name": "stderr",
     "output_type": "stream",
     "text": [
      "C:\\Users\\Ale\\anaconda3\\envs\\ds\\lib\\site-packages\\seaborn\\_decorators.py:36: FutureWarning: Pass the following variables as keyword args: x, y. From version 0.12, the only valid positional argument will be `data`, and passing other arguments without an explicit keyword will result in an error or misinterpretation.\n",
      "  warnings.warn(\n"
     ]
    },
    {
     "data": {
      "image/png": "[encoded data removed]",
      "text/plain": [
       "<Figure size 432x288 with 1 Axes>"
      ]
     },
     "metadata": {},
     "output_type": "display_data"
    }
   ],
   "source": [
    "importances = rf_clf_rs.feature_importances_\n",
    "columns = X.columns\n",
    "sns.barplot(columns, importances)\n",
    "plt.title('Importancia de cada Feature')\n",
    "plt.show()"
   ]
  },
  {
   "cell_type": "markdown",
   "metadata": {},
   "source": [
    "* *La variable más importante a la hora de predecir sigue siendo `amount`, aunque ahora adquieren notable relevancia las atributos de `category` y `merchant`.*"
   ]
  },
  {
   "cell_type": "markdown",
   "metadata": {},
   "source": [
    "### 6. Comparación del Desempeño de los Modelos de ML Desarrollados"
   ]
  },
  {
   "cell_type": "markdown",
   "metadata": {},
   "source": [
    "|      Modelos      | Precision No Fraude | Precisión Fraude |            Hiperparámetros Utilizados           |\n",
    "|:-----------------:|:-------------------:|:----------------:|:-----------------------------------------------:|\n",
    "| Árbol de Decisión |         0.98        |       0.95       |         max_features=none,max_depth=4           |\n",
    "|   Random Forest   |         0.99        |       0.97       | n_estimators=50,max_features='auto',max_depth=8 |"
   ]
  },
  {
   "cell_type": "markdown",
   "metadata": {},
   "source": [
    "* *En éste caso, fue **Random Forest fue el modelo con mejor desempeño**.*\n",
    "* *Éste resultado, era realmente el esperado, ya que se trata de un algoritmo eficiente y fácil de usar que ofrece un alto rendimiento y precisión en comparación con otros algoritmos.*\n",
    "* *Random Forest, además de aplicar Bagging, también selecciona features al azar, de esa manera descorrelaciona aún más los distintos modelos de árbol creados.*\n",
    "* *Cuenta con una **doble aleatoriedad**: tanto en la selección del valor k de características para cada árbol como en la cantidad de muestras que usa para entrenar cada árbol creado.*\n",
    "* *El algoritmo de bosque aleatorio **no está sesgado** (lo cual coincide con lo observado anteriormente), ya que hay varios árboles y cada árbol se entrena en un subconjunto de datos. Básicamente, el algoritmo de bosque aleatorio se basa en el poder de \"la multitud\"; por lo tanto, se reduce el sesgo general del algoritmo.*"
   ]
  },
  {
   "cell_type": "markdown",
   "metadata": {},
   "source": [
    "__¿Cuál es el beneficio de usar Random Forest versus Árboles de Decisión?__\n",
    "* *Los bosques aleatorios son una opción más robusta que un simple árbol de decisión.*\n",
    "* *Como Random Forest consiste en una colección de árboles en un subconjunto aleatorio de características, tiene como predicciones finales, los resultados combinados de esos árboles.*\n",
    "* *Éste algoritmo **es muy estable**. Incluso si se introduce un nuevo punto de datos en el conjunto de datos, el algoritmo general no se ve muy afectado, ya que los nuevos datos pueden afectar a un árbol, pero es muy difícil que afecte a todos los árboles.*\n",
    "* *Random Forest **previene el sobreajuste la mayoría de las veces**, creando subconjuntos aleatorios de las características y construyendo árboles más pequeños usando estos subconjuntos. Después, combina los subárboles de submuestras de características, por lo que no tiende a sobreajustarse a todo su conjunto de características de la manera en que lo hacen los Árboles de Decisión.*"
   ]
  },
  {
   "cell_type": "markdown",
   "metadata": {},
   "source": [
    "### 7. Conclusión"
   ]
  },
  {
   "cell_type": "markdown",
   "metadata": {},
   "source": [
    "* En el presente estudio se buscó realizar la Detección de Fraudes en los datos de pago de nuestro banco elegido, denominado Banksim.\n",
    "* Como el conjunto de datos de Fraude del Dataset utilizado, tiene un gran problema de desequilibrio, se realizó una técnica de sobremuestreo llamada SMOTE para generar nuevos puntos de datos de la clase minoritaria y así equilibrar las instancias con transacciones fraudulentas y no fraudulentas.\n",
    "* Para la Detección, se llevaron a cabo distintos modelos de ML, habiendo alcanzado muy buenos resultados con los clasificadores elegidos, entre otras razones, por haberse elegido entre ellos el modelo de Random Forest, el cual es muy popular y efectivo a la hora de detectar Fraudes Bancarios."
   ]
  }
 ],
 "metadata": {
  "kernelspec": {
   "display_name": "Python 3",
   "language": "python",
   "name": "python3"
  },
  "language_info": {
   "codemirror_mode": {
    "name": "ipython",
    "version": 3
   },
   "file_extension": ".py",
   "mimetype": "text/x-python",
   "name": "python",
   "nbconvert_exporter": "python",
   "pygments_lexer": "ipython3",
   "version": "3.8.6"
  }
 },
 "nbformat": 4,
 "nbformat_minor": 4
}
